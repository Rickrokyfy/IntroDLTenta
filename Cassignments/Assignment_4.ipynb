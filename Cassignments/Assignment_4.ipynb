{
 "cells": [
  {
   "cell_type": "markdown",
   "id": "e9959f48",
   "metadata": {
    "deletable": false
   },
   "source": [
    "\n",
    "# Assignment 4 for Course 1MS041\n",
    "Make sure you pass the `# ... Test` cells and\n",
    " submit your solution notebook in the corresponding assignment on the course website. You can submit multiple times before the deadline and your highest score will be used."
   ]
  },
  {
   "cell_type": "markdown",
   "id": "b63d8b71",
   "metadata": {
    "deletable": false,
    "lx_assignment_number": "4",
    "lx_assignment_type": "ASSIGNMENT",
    "lx_assignment_type2print": "Assignment",
    "lx_problem_cell_type": "PROBLEM",
    "lx_problem_number": "1",
    "lx_problem_points": "24"
   },
   "source": [
    "---\n",
    "## Assignment 4, PROBLEM 1\n",
    "Maximum Points = 24"
   ]
  },
  {
   "cell_type": "markdown",
   "id": "04e1585d",
   "metadata": {
    "deletable": false,
    "lx_assignment_number": "4",
    "lx_assignment_type": "ASSIGNMENT",
    "lx_assignment_type2print": "Assignment",
    "lx_problem_cell_type": "PROBLEM",
    "lx_problem_number": "1",
    "lx_problem_points": "24"
   },
   "source": [
    "\n",
    "    This time the assignment only consists of one problem, but we will do a more comprehensive analysis instead.\n",
    "\n",
    "Consider the dataset `Corona_NLP_train.csv` that you can get from the course website [git](https://github.com/datascience-intro/1MS041-2024/blob/main/notebooks/data/Corona_NLP_train.csv). The data is \"Coronavirus tweets NLP - Text Classification\" that can be found on [kaggle](https://www.kaggle.com/datasets/datatattle/covid-19-nlp-text-classification). The data has several columns, but we will only be working with `OriginalTweet`and `Sentiment`.\n",
    "\n",
    "1. [3p] Load the data and filter out those tweets that have `Sentiment`=`Neutral`. Let $X$ represent the `OriginalTweet` and let \n",
    "    $$\n",
    "        Y = \n",
    "        \\begin{cases}\n",
    "        1 & \\text{if sentiment is towards positive}\n",
    "        \\\\\n",
    "        0 & \\text{if sentiment is towards negative}.\n",
    "        \\end{cases}\n",
    "    $$\n",
    "    Put the resulting arrays into the variables $X$ and $Y$. Split the data into three parts, train/test/validation where train is 60% of the data, test is 15% and validation is 25% of the data. Do not do this randomly, this is to make sure that we all did the same splits (we are in this case assuming the data is IID as presented in the dataset). That is [train,test,validation] is the splitting layout.\n",
    "\n",
    "2. [4p] There are many ways to solve this classification problem. The first main issue to resolve is to convert the $X$ variable to something that you can feed into a machine learning model. For instance, you can first use [`CountVectorizer`](https://scikit-learn.org/1.5/modules/generated/sklearn.feature_extraction.text.CountVectorizer.html) as the first step. The step that comes after should be a `LogisticRegression` model, but for this to work you need to put together the `CountVectorizer` and the `LogisticRegression` model into a [`Pipeline`](https://scikit-learn.org/1.5/modules/generated/sklearn.pipeline.Pipeline.html#sklearn.pipeline.Pipeline). Fill in the variable `model` such that it accepts the raw text as input and outputs a number $0$ or $1$, make sure that `model.predict_proba` works for this. **Hint: You might need to play with the parameters of LogisticRegression to get convergence, make sure that it doesn't take too long or the autograder might kill your code**\n",
    "3. [3p] Use your trained model and calculate the precision and recall on both classes. Fill in the corresponding variables with the answer.\n",
    "4. [3p] Let us now define a cost function\n",
    "    * A positive tweet that is classified as negative will have a cost of 1\n",
    "    * A negative tweet that is classified as positive will have a cost of 5\n",
    "    * Correct classifications cost 0\n",
    "    \n",
    "    complete filling the function `cost` to compute the cost of a prediction model under a certain prediction threshold (recall our precision recall lecture and the `predict_proba` function from trained models). \n",
    "\n",
    "5. [4p] Now, we wish to select the threshold of our classifier that minimizes the cost, fill in the selected threshold value in value `optimal_threshold`.\n",
    "6. [4p] With your newly computed threshold value, compute the cost of putting this model in production by computing the cost using the validation data. Also provide a confidence interval of the cost using Hoeffdings inequality with a 99% confidence.\n",
    "7. [3p] Let $t$ be the threshold you found and $f$ the model you fitted (one of the outputs of `predict_proba`), if we define the random variable\n",
    "    $$\n",
    "        C = (1-1_{f(X)\\geq t})Y+5(1-Y)1_{f(X) \\geq t}\n",
    "    $$\n",
    "    then $C$ denotes the cost of a randomly chosen tweet. In the previous step we estimated $\\mathbb{E}[C]$ using the empirical mean. However, since the threshold is chosen to minimize cost it is likely that $C=0$ or $C=1$ than $C=5$ as such it will have a low variance. Compute the empirical variance of $C$ on the validation set. What would be the confidence interval if we used Bennett's inequality instead of Hoeffding in point 6 but with the computed empirical variance as our guess for the variance?"
   ]
  },
  {
   "cell_type": "code",
   "execution_count": 1,
   "id": "49e6fa33",
   "metadata": {
    "deletable": false,
    "lx_assignment_number": "4",
    "lx_assignment_type": "ASSIGNMENT",
    "lx_assignment_type2print": "Assignment",
    "lx_problem_cell_type": "PROBLEM",
    "lx_problem_number": "1",
    "lx_problem_points": "24"
   },
   "outputs": [],
   "source": [
    "\n",
    "# Part 1\n",
    "\n",
    "# Load the data from the file specified in the problem definition and make sure that it is loaded using\n",
    "# the search path `data/Corona_NLP_train.csv`. This is to make sure the autograder and your computer have the same\n",
    "# file path and can load the data correctly.\n",
    "\n",
    "# Contrary to how many other problems are structured, this problem actually requires you to\n",
    "# have X on the shape (n_samples, ) that is a 1-dimensional array. Otherwise it will cause a bunch\n",
    "# of errors in the autograder or also in for instance CountVectorizer.\n",
    "\n",
    "# Make sure that all your data is numpy arrays and not pandas dataframes or series.\n",
    "import pandas as pd\n",
    "import numpy as np\n",
    "df = pd.read_csv('data/Corona_NLP_train.csv', encoding='latin')\n",
    "df = df.loc[df['Sentiment'] != 'Neutral']\n",
    "df['Sentiment'] = df['Sentiment'].apply(lambda x: 1 if 'Positive' in x else 0)\n",
    "\n",
    "X = df['OriginalTweet'].to_numpy()\n",
    "Y = df['Sentiment'].to_numpy()\n",
    "\n",
    "X_train = X[:20066]\n",
    "Y_train = Y[:20066]\n",
    "X_test = X[20066:25082]\n",
    "Y_test = Y[20066:25082]\n",
    "X_valid = X[25082:]\n",
    "Y_valid = Y[25082:]\n",
    "\n"
   ]
  },
  {
   "cell_type": "code",
   "execution_count": 2,
   "id": "078fe203",
   "metadata": {
    "deletable": false,
    "lx_assignment_number": "4",
    "lx_assignment_type": "ASSIGNMENT",
    "lx_assignment_type2print": "Assignment",
    "lx_problem_cell_type": "PROBLEM",
    "lx_problem_number": "1",
    "lx_problem_points": "24"
   },
   "outputs": [
    {
     "data": {
      "text/plain": [
       "0.8650318979266348"
      ]
     },
     "execution_count": 2,
     "metadata": {},
     "output_type": "execute_result"
    }
   ],
   "source": [
    "\n",
    "# Part 2\n",
    "\n",
    "# Train a machine learning model or pipeline that can take the raw strings from X and predict Y=0,1 depending on the\n",
    "# sentiment of the tweet. Store the trained model in the variable `model`.\n",
    "from sklearn.pipeline import Pipeline\n",
    "from sklearn.linear_model import LogisticRegression\n",
    "from sklearn.feature_extraction.text import CountVectorizer \n",
    "model = Pipeline([('count_vectorizer', CountVectorizer()), ('logReg', LogisticRegression(solver='liblinear'))]).fit(X_train, Y_train)\n",
    "\n",
    "model.score(X_test, Y_test)"
   ]
  },
  {
   "cell_type": "code",
   "execution_count": 3,
   "id": "ba4c57e6",
   "metadata": {},
   "outputs": [
    {
     "data": {
      "text/plain": [
       "array([[0.87766221, 0.12233779],\n",
       "       [0.99712735, 0.00287265],\n",
       "       [0.03467975, 0.96532025],\n",
       "       ...,\n",
       "       [0.58802982, 0.41197018],\n",
       "       [0.94841932, 0.05158068],\n",
       "       [0.92856718, 0.07143282]])"
      ]
     },
     "execution_count": 3,
     "metadata": {},
     "output_type": "execute_result"
    }
   ],
   "source": [
    "model.predict_proba(X_test)"
   ]
  },
  {
   "cell_type": "code",
   "execution_count": 4,
   "id": "ec6fd1d4",
   "metadata": {
    "deletable": false,
    "lx_assignment_number": "4",
    "lx_assignment_type": "ASSIGNMENT",
    "lx_assignment_type2print": "Assignment",
    "lx_problem_cell_type": "PROBLEM",
    "lx_problem_number": "1",
    "lx_problem_points": "24"
   },
   "outputs": [
    {
     "name": "stdout",
     "output_type": "stream",
     "text": [
      "0.8579595426561126 0.8708971553610503\n",
      "0.8579595426561126\n",
      "0.8464208242950109 0.8808557727775729\n",
      "0.8464208242950109\n"
     ]
    }
   ],
   "source": [
    "\n",
    "# Part 3\n",
    "\n",
    "# Evaluate the model on the test set and calculate precision, and recall on both classes. Store the results in the\n",
    "# variables `precision_0`, `precision_1`, `recall_0`, `recall_1`.\n",
    "from sklearn.metrics import precision_score, recall_score\n",
    "predictions = model.predict(X_test)\n",
    "fp_1 = np.mean([1 if prediction==1 and Y_test[i]==0 else 0 for (i, prediction) in enumerate(predictions)])\n",
    "fp_0 = np.mean([1 if prediction==0 and Y_test[i]==1 else 0 for (i, prediction) in enumerate(predictions)])\n",
    "tp_1 = np.mean([1 if prediction==1 and Y_test[i]==1 else 0 for (i, prediction) in enumerate(predictions)])\n",
    "tp_0 = np.mean([1 if prediction==0 and Y_test[i]==0 else 0 for (i, prediction) in enumerate(predictions)])\n",
    "\n",
    "precision_0 = precision_score(Y_test, predictions, pos_label=0)\n",
    "precision_1 = precision_score(Y_test, predictions, pos_label=1)\n",
    "print(precision_0, precision_1)\n",
    "print(tp_0/(tp_0+fp_0))\n",
    "\n",
    "recall_0 = recall_score(Y_test, predictions, pos_label=0)\n",
    "recall_1 = recall_score(Y_test, predictions, pos_label=1)\n",
    "print(recall_0, recall_1)\n",
    "print(tp_0/(tp_0+fp_1))"
   ]
  },
  {
   "cell_type": "code",
   "execution_count": 5,
   "id": "10698374",
   "metadata": {
    "deletable": false,
    "lx_assignment_number": "4",
    "lx_assignment_type": "ASSIGNMENT",
    "lx_assignment_type2print": "Assignment",
    "lx_problem_cell_type": "PROBLEM",
    "lx_problem_number": "1",
    "lx_problem_points": "24"
   },
   "outputs": [],
   "source": [
    "\n",
    "# Part 4\n",
    "\n",
    "def cost(model,threshold,X,Y):\n",
    "    # Hint, make sure that the model has a predict_proba method\n",
    "    # think about how the decision is made based on the probabilities\n",
    "    # and how the threshold can be used to make the decision.\n",
    "    # For reference take a look at the lecture notes \"Bayes classifier\"\n",
    "    # which contains how the decision is made based on the probabilities when the threshold is 0.5.\n",
    "    \n",
    "    # Fill in what is missing to compute the cost and return it\n",
    "    # Note that we are interested in average cost\n",
    "    total_cost = 0\n",
    "    probabilities = model.predict_proba(X)\n",
    "    predictions = [1 if prob[1] > threshold else 0 for prob in probabilities]\n",
    "    for (i, pred) in enumerate(predictions):\n",
    "        if pred==1 and Y[i]==0:\n",
    "            total_cost += 5\n",
    "        if pred==0 and Y[i]==1:\n",
    "            total_cost+=1\n",
    "\n",
    "    return total_cost/len(X)"
   ]
  },
  {
   "cell_type": "code",
   "execution_count": 6,
   "id": "b21963ec",
   "metadata": {
    "deletable": false,
    "lx_assignment_number": "4",
    "lx_assignment_type": "ASSIGNMENT",
    "lx_assignment_type2print": "Assignment",
    "lx_problem_cell_type": "PROBLEM",
    "lx_problem_number": "1",
    "lx_problem_points": "24"
   },
   "outputs": [],
   "source": [
    "\n",
    "# Part 5\n",
    "\n",
    "# Find the optimal threshold for the model on the test set. Store the threshold in the variable `optimal_threshold`\n",
    "# and the cost at the optimal threshold in the variable `cost_at_optimal_threshold` evaluated on the test set.\n",
    "\n",
    "thresholds = np.linspace(0, 1, 101)\n",
    "costs = [cost(model, t, X_test, Y_test) for t in thresholds]\n",
    "optimal_threshold = thresholds[np.argmin(costs)]\n",
    "cost_at_optimal_threshold = cost(model, optimal_threshold, X_test, Y_test)\n",
    "\n",
    "# from scipy.optimize import minimize\n",
    "\n",
    "# def objective(threshold):\n",
    "#     return cost(model, threshold, X_test, Y_test)\n",
    "\n",
    "# result = minimize(objective, x0=0.3, method='trust-constr', bounds=[(0, 1)])\n",
    "# optimal_threshold = result.x[0]\n",
    "# cost_at_optimal_threshold = cost(model, optimal_threshold, X_test, Y_test)\n",
    "# optimal_threshold"
   ]
  },
  {
   "cell_type": "code",
   "execution_count": 7,
   "id": "943980cf",
   "metadata": {},
   "outputs": [
    {
     "name": "stdout",
     "output_type": "stream",
     "text": [
      "0.8 0.2727272727272727\n",
      "[2.297647527910686, 1.9675039872408293, 1.8137958532695375, 1.7196969696969697, 1.6138357256778308, 1.541866028708134, 1.4736842105263157, 1.420255183413078, 1.3672248803827751, 1.3293460925039873, 1.2822966507177034, 1.2414274322169059, 1.2051435406698565, 1.157695374800638, 1.121212121212121, 1.081140350877193, 1.055023923444976, 1.0251196172248804, 0.9808612440191388, 0.9455741626794258, 0.9262360446570973, 0.8939393939393939, 0.8726076555023924, 0.8572567783094099, 0.8379186602870813, 0.8201754385964912, 0.7976475279106858, 0.7699362041467305, 0.7422248803827751, 0.720494417862839, 0.7077352472089314, 0.6862041467304625, 0.6684609250398724, 0.6425438596491229, 0.6251993620414673, 0.613237639553429, 0.595494417862839, 0.585127591706539, 0.5661881977671451, 0.5534290271132376, 0.5422647527910686, 0.527511961722488, 0.5105661881977671, 0.49262360446570974, 0.47607655502392343, 0.46850079744816586, 0.46351674641148327, 0.45075757575757575, 0.4368022328548644, 0.4266347687400319, 0.41726475279106856, 0.41228070175438597, 0.4007177033492823, 0.39055023923444976, 0.384170653907496, 0.37161084529505584, 0.36383572567783096, 0.35964912280701755, 0.3538676236044657, 0.3484848484848485, 0.3442982456140351, 0.3369218500797448, 0.3315390749601276, 0.32515948963317387, 0.31758373205741625, 0.30721690590111644, 0.30462519936204147, 0.30023923444976075, 0.30283094098883573, 0.3016347687400319, 0.29246411483253587, 0.28708133971291866, 0.28189792663476876, 0.2807017543859649, 0.27791068580542266, 0.27910685805422647, 0.27751196172248804, 0.27910685805422647, 0.27472089314194575, 0.27472089314194575, 0.2727272727272727, 0.27492025518341306, 0.2771132376395534, 0.2783094098883573, 0.280103668261563, 0.2836921850079745, 0.2894736842105263, 0.29246411483253587, 0.29485645933014354, 0.30303030303030304, 0.30582137161084527, 0.3129984051036683, 0.3237639553429027, 0.3317384370015949, 0.3413078149920255, 0.3572567783094099, 0.36782296650717705, 0.38257575757575757, 0.39852472089314195, 0.430622009569378, 0.5404704944178629]\n"
     ]
    }
   ],
   "source": [
    "print(optimal_threshold, cost_at_optimal_threshold)\n",
    "print(costs)"
   ]
  },
  {
   "cell_type": "code",
   "execution_count": 8,
   "id": "79a1c5e6",
   "metadata": {
    "deletable": false,
    "lx_assignment_number": "4",
    "lx_assignment_type": "ASSIGNMENT",
    "lx_assignment_type2print": "Assignment",
    "lx_problem_cell_type": "PROBLEM",
    "lx_problem_number": "1",
    "lx_problem_points": "24"
   },
   "outputs": [],
   "source": [
    "\n",
    "# Part 6\n",
    "\n",
    "cost_at_optimal_threshold_valid = cost(model, optimal_threshold, X_valid, Y_valid)\n",
    "deviation = np.sqrt((5**2*np.log(200))/(2*len(X_valid)))\n",
    "cost_interval_valid = (cost_at_optimal_threshold_valid-deviation, cost_at_optimal_threshold_valid+deviation)\n",
    "\n",
    "assert(type(cost_interval_valid) == tuple)\n",
    "assert(len(cost_interval_valid) == 2)"
   ]
  },
  {
   "cell_type": "code",
   "execution_count": 9,
   "id": "e3bc0760",
   "metadata": {
    "deletable": false,
    "lx_assignment_number": "4",
    "lx_assignment_type": "ASSIGNMENT",
    "lx_assignment_type2print": "Assignment",
    "lx_problem_cell_type": "PROBLEM",
    "lx_problem_number": "1",
    "lx_problem_points": "24"
   },
   "outputs": [],
   "source": [
    "\n",
    "# Part 7\n",
    "costs = np.zeros(len(X_valid))\n",
    "probabilities = model.predict_proba(X_valid)\n",
    "predictions = [1 if prob[1] > optimal_threshold else 0 for prob in probabilities]\n",
    "for (i, pred) in enumerate(predictions):\n",
    "    if pred==1 and Y_valid[i]==0:\n",
    "        costs[i] = 5\n",
    "    if pred==0 and Y_valid[i]==1:\n",
    "        costs[i] = 1\n",
    "\n",
    "# Taken from the Concentration and limits notebook\n",
    "def bennett_epsilon(n,b,sigma,alpha):\n",
    "    import scipy.optimize as so\n",
    "    h = lambda u: (1+u)*np.log(1+u)-u\n",
    "    f = lambda epsilon: np.exp(-n*sigma**2/b**2*h(b*epsilon/sigma**2))-alpha/2\n",
    "    ans = so.fsolve(f,0.002)\n",
    "    epsilon = np.abs(ans[0])\n",
    "    return epsilon\n",
    "\n",
    "\n",
    "\n",
    "variance_of_C = np.var(costs)\n",
    "\n",
    "epsilon = bennett_epsilon(len(X_valid), 5, variance_of_C, 0.01)\n",
    "interval_of_C = (cost_at_optimal_threshold_valid-epsilon, cost_at_optimal_threshold_valid+epsilon)\n",
    "\n",
    "assert(type(interval_of_C) == tuple)\n",
    "assert(len(interval_of_C) == 2)"
   ]
  },
  {
   "cell_type": "code",
   "execution_count": 10,
   "id": "521b7928",
   "metadata": {},
   "outputs": [
    {
     "name": "stdout",
     "output_type": "stream",
     "text": [
      "0.6692569047766288\n"
     ]
    }
   ],
   "source": [
    "print(variance_of_C)"
   ]
  }
 ],
 "metadata": {
  "kernelspec": {
   "display_name": "venv",
   "language": "python",
   "name": "python3"
  },
  "language_info": {
   "codemirror_mode": {
    "name": "ipython",
    "version": 3
   },
   "file_extension": ".py",
   "mimetype": "text/x-python",
   "name": "python",
   "nbconvert_exporter": "python",
   "pygments_lexer": "ipython3",
   "version": "3.12.3"
  },
  "lx_assignment_number": 4,
  "lx_course_instance": "2024",
  "lx_course_name": "Introduction to Data Science",
  "lx_course_number": "1MS041"
 },
 "nbformat": 4,
 "nbformat_minor": 5
}
