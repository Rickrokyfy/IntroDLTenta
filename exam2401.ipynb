{
 "cells": [
  {
   "cell_type": "code",
   "execution_count": 1,
   "metadata": {},
   "outputs": [],
   "source": [
    "import numpy as np\n",
    "import matplotlib.pyplot as plt\n",
    "from scipy.optimize import minimize\n",
    "from sklearn.tree import DecisionTreeRegressor\n",
    "\n",
    "# Task 1: Problem 1 - Rejection Sampling and Monte Carlo Integration\n",
    "\n",
    "def problem1_inversion(n_samples=1):\n",
    "    \"\"\"\n",
    "    Samples from the given distribution using rejection sampling.\n",
    "    \"\"\"\n",
    "    samples = []\n",
    "    while len(samples) < n_samples:\n",
    "        x = np.random.uniform(0, 1)  # Sample from the uniform distribution\n",
    "        y = np.random.uniform(0, np.exp(0.5 - 1))  # Upper bound of target distribution\n",
    "        if y <= np.exp(x**2 - 1):\n",
    "            samples.append(x)\n",
    "    return np.array(samples)\n",
    "\n",
    "# Generate samples\n",
    "problem1_samples = problem1_inversion(100000)"
   ]
  },
  {
   "cell_type": "code",
   "execution_count": 2,
   "metadata": {},
   "outputs": [
    {
     "data": {
      "image/png": "[encoded data removed]",
      "text/plain": [
       "<Figure size 640x480 with 1 Axes>"
      ]
     },
     "metadata": {},
     "output_type": "display_data"
    }
   ],
   "source": [
    "\n",
    "\n",
    "# Task 2: Plot histogram\n",
    "plt.hist(problem1_samples, bins=50, density=True, alpha=0.7, label=\"Sampled\")\n",
    "x_vals = np.linspace(0, 1, 1000)\n",
    "plt.plot(x_vals, np.exp(x_vals**2 - 1), label=\"True Density\", color=\"red\")\n",
    "plt.legend()\n",
    "plt.title(\"Histogram of Samples vs True Density\")\n",
    "plt.show()"
   ]
  },
  {
   "cell_type": "code",
   "execution_count": 3,
   "metadata": {},
   "outputs": [],
   "source": [
    "# Task 3: Monte Carlo Integration\n",
    "def monte_carlo_integral(samples):\n",
    "    integrand = lambda x: np.sin(x) / (2 * x) * np.exp(x**2 - 1)\n",
    "    evaluations = integrand(samples)\n",
    "    return evaluations.mean()\n",
    "\n",
    "problem1_integral = monte_carlo_integral(problem1_samples)\n"
   ]
  },
  {
   "cell_type": "code",
   "execution_count": 4,
   "metadata": {},
   "outputs": [
    {
     "name": "stdout",
     "output_type": "stream",
     "text": [
      "Integral approximation: 0.26191073438447005\n",
      "95% Confidence Interval: (np.float64(0.25761604030100266), np.float64(0.26620542846793743))\n"
     ]
    }
   ],
   "source": [
    "\n",
    "# Task 4: Hoeffding's Confidence Interval\n",
    "n = len(problem1_samples)\n",
    "range_ = 1  # Assume max-min range is within [0, 1] for simplicity\n",
    "epsilon = np.sqrt((range_**2 * np.log(2 / 0.05)) / (2 * n))\n",
    "problem1_interval = (problem1_integral - epsilon, problem1_integral + epsilon)\n",
    "\n",
    "print(\"Integral approximation:\", problem1_integral)\n",
    "print(\"95% Confidence Interval:\", problem1_interval)"
   ]
  },
  {
   "cell_type": "code",
   "execution_count": null,
   "metadata": {},
   "outputs": [],
   "source": [
    "\n",
    "\n",
    "\n",
    "\n",
    "# Task 5: Problem 1 Inversion 2\n",
    "def problem1_inversion_2(n_samples=1):\n",
    "    \"\"\"\n",
    "    Samples from the second distribution using rejection sampling.\n",
    "    \"\"\"\n",
    "    samples = []\n",
    "    while len(samples) < n_samples:\n",
    "        x = np.random.uniform(0, 1)\n",
    "        y = np.random.uniform(0, 20 * np.exp(20 - 1))\n",
    "        if y <= 20 * x * np.exp(20 - 1 / x):\n",
    "            samples.append(x)\n",
    "    return np.array(samples)\n",
    "\n",
    "# Task 6: Problem 2 - Logistic Regression and Calibration\n",
    "import pandas as pd\n",
    "from sklearn.model_selection import train_test_split\n",
    "\n",
    "# Load data\n",
    "spam_data = pd.read_csv(\"data/spam.csv\")\n",
    "problem2_X = spam_data[[\"free\", \"prize\", \"win\"]].values\n",
    "problem2_Y = spam_data[\"spam\"].values\n",
    "\n",
    "# Task 7: Split data\n",
    "problem2_X_train, temp_X, problem2_Y_train, temp_Y = train_test_split(problem2_X, problem2_Y, test_size=0.6)\n",
    "problem2_X_calib, problem2_X_test, problem2_Y_calib, problem2_Y_test = train_test_split(temp_X, temp_Y, test_size=2/3)\n",
    "\n",
    "class ProportionalSpam:\n",
    "    def __init__(self):\n",
    "        self.coeffs = None\n",
    "\n",
    "    def loss(self, X, Y, coeffs):\n",
    "        G = lambda z: 1 / (1 + np.exp(-z))\n",
    "        logits = coeffs[0] + np.dot(X, coeffs[1:])\n",
    "        predictions = G(logits)\n",
    "        return -np.sum(Y * np.log(predictions) + (1 - Y) * np.log(1 - predictions))\n",
    "\n",
    "    def fit(self, X, Y):\n",
    "        opt_loss = lambda coeffs: self.loss(X, Y, coeffs)\n",
    "        initial_coeffs = np.zeros(X.shape[1] + 1)\n",
    "        result = minimize(opt_loss, initial_coeffs, method='cg')\n",
    "        self.coeffs = result.x\n",
    "\n",
    "    def predict(self, X):\n",
    "        if self.coeffs is not None:\n",
    "            logits = self.coeffs[0] + np.dot(X, self.coeffs[1:])\n",
    "            G = lambda z: 1 / (1 + np.exp(-z))\n",
    "            return G(logits)\n",
    "        else:\n",
    "            return None\n",
    "\n",
    "# Task 8: Train the logistic regression model\n",
    "problem2_ps = ProportionalSpam()\n",
    "problem2_ps.fit(problem2_X_train, problem2_Y_train)\n",
    "\n",
    "# Task 9: Calibration\n",
    "def calibrate_model(predictions, true_values):\n",
    "    regressor = DecisionTreeRegressor()\n",
    "    regressor.fit(predictions.reshape(-1, 1), true_values)\n",
    "    return regressor\n",
    "\n",
    "problem2_X_pred = problem2_ps.predict(problem2_X_calib)\n",
    "problem2_calibrator = calibrate_model(problem2_X_pred, problem2_Y_calib)\n",
    "\n",
    "# Task 10: Final Predictions and Confidence Interval\n",
    "problem2_final_predictions = problem2_calibrator.predict(problem2_ps.predict(problem2_X_test).reshape(-1, 1))\n",
    "problem2_01_loss = np.mean((problem2_final_predictions > 0.5) != problem2_Y_test)\n",
    "n_test = len(problem2_Y_test)\n",
    "epsilon_test = np.sqrt((np.log(2 / 0.01)) / (2 * n_test))\n",
    "problem2_interval = (problem2_01_loss - epsilon_test, problem2_01_loss + epsilon_test)\n",
    "\n",
    "print(\"Test Loss:\", problem2_01_loss)\n",
    "print(\"99% Confidence Interval for Test Loss:\", problem2_interval)\n"
   ]
  }
 ],
 "metadata": {
  "kernelspec": {
   "display_name": "Python 3",
   "language": "python",
   "name": "python3"
  },
  "language_info": {
   "codemirror_mode": {
    "name": "ipython",
    "version": 3
   },
   "file_extension": ".py",
   "mimetype": "text/x-python",
   "name": "python",
   "nbconvert_exporter": "python",
   "pygments_lexer": "ipython3",
   "version": "3.9.6"
  }
 },
 "nbformat": 4,
 "nbformat_minor": 2
}
