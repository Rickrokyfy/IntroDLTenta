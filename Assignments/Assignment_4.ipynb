{
 "cells": [
  {
   "cell_type": "markdown",
   "id": "e9959f48",
   "metadata": {
    "deletable": false
   },
   "source": [
    "\n",
    "# Assignment 4 for Course 1MS041\n",
    "Make sure you pass the `# ... Test` cells and\n",
    " submit your solution notebook in the corresponding assignment on the course website. You can submit multiple times before the deadline and your highest score will be used."
   ]
  },
  {
   "cell_type": "markdown",
   "id": "b63d8b71",
   "metadata": {
    "deletable": false,
    "lx_assignment_number": "4",
    "lx_assignment_type": "ASSIGNMENT",
    "lx_assignment_type2print": "Assignment",
    "lx_problem_cell_type": "PROBLEM",
    "lx_problem_number": "1",
    "lx_problem_points": "24"
   },
   "source": [
    "---\n",
    "## Assignment 4, PROBLEM 1\n",
    "Maximum Points = 24"
   ]
  },
  {
   "cell_type": "markdown",
   "id": "04e1585d",
   "metadata": {
    "deletable": false,
    "lx_assignment_number": "4",
    "lx_assignment_type": "ASSIGNMENT",
    "lx_assignment_type2print": "Assignment",
    "lx_problem_cell_type": "PROBLEM",
    "lx_problem_number": "1",
    "lx_problem_points": "24"
   },
   "source": [
    "\n",
    "    This time the assignment only consists of one problem, but we will do a more comprehensive analysis instead.\n",
    "\n",
    "Consider the dataset `Corona_NLP_train.csv` that you can get from the course website [git](https://github.com/datascience-intro/1MS041-2024/blob/main/notebooks/data/Corona_NLP_train.csv). The data is \"Coronavirus tweets NLP - Text Classification\" that can be found on [kaggle](https://www.kaggle.com/datasets/datatattle/covid-19-nlp-text-classification). The data has several columns, but we will only be working with `OriginalTweet`and `Sentiment`.\n",
    "\n",
    "1. [3p] Load the data and filter out those tweets that have `Sentiment`=`Neutral`. Let $X$ represent the `OriginalTweet` and let \n",
    "    $$\n",
    "        Y = \n",
    "        \\begin{cases}\n",
    "        1 & \\text{if sentiment is towards positive}\n",
    "        \\\\\n",
    "        0 & \\text{if sentiment is towards negative}.\n",
    "        \\end{cases}\n",
    "    $$\n",
    "    Put the resulting arrays into the variables $X$ and $Y$. Split the data into three parts, train/test/validation where train is 60% of the data, test is 15% and validation is 25% of the data. Do not do this randomly, this is to make sure that we all did the same splits (we are in this case assuming the data is IID as presented in the dataset). That is [train,test,validation] is the splitting layout.\n",
    "\n",
    "2. [4p] There are many ways to solve this classification problem. The first main issue to resolve is to convert the $X$ variable to something that you can feed into a machine learning model. For instance, you can first use [`CountVectorizer`](https://scikit-learn.org/1.5/modules/generated/sklearn.feature_extraction.text.CountVectorizer.html) as the first step. The step that comes after should be a `LogisticRegression` model, but for this to work you need to put together the `CountVectorizer` and the `LogisticRegression` model into a [`Pipeline`](https://scikit-learn.org/1.5/modules/generated/sklearn.pipeline.Pipeline.html#sklearn.pipeline.Pipeline). Fill in the variable `model` such that it accepts the raw text as input and outputs a number $0$ or $1$, make sure that `model.predict_proba` works for this. **Hint: You might need to play with the parameters of LogisticRegression to get convergence, make sure that it doesn't take too long or the autograder might kill your code**\n",
    "3. [3p] Use your trained model and calculate the precision and recall on both classes. Fill in the corresponding variables with the answer.\n",
    "4. [3p] Let us now define a cost function\n",
    "    * A positive tweet that is classified as negative will have a cost of 1\n",
    "    * A negative tweet that is classified as positive will have a cost of 5\n",
    "    * Correct classifications cost 0\n",
    "    \n",
    "    complete filling the function `cost` to compute the cost of a prediction model under a certain prediction threshold (recall our precision recall lecture and the `predict_proba` function from trained models). \n",
    "\n",
    "5. [4p] Now, we wish to select the threshold of our classifier that minimizes the cost, fill in the selected threshold value in value `optimal_threshold`.\n",
    "6. [4p] With your newly computed threshold value, compute the cost of putting this model in production by computing the cost using the validation data. Also provide a confidence interval of the cost using Hoeffdings inequality with a 99% confidence.\n",
    "7. [3p] Let $t$ be the threshold you found and $f$ the model you fitted (one of the outputs of `predict_proba`), if we define the random variable\n",
    "    $$\n",
    "        C = (1-1_{f(X)\\geq t})Y+5(1-Y)1_{f(X) \\geq t}\n",
    "    $$\n",
    "    then $C$ denotes the cost of a randomly chosen tweet. In the previous step we estimated $\\mathbb{E}[C]$ using the empirical mean. However, since the threshold is chosen to minimize cost it is likely that $C=0$ or $C=1$ than $C=5$ as such it will have a low variance. Compute the empirical variance of $C$ on the validation set. What would be the confidence interval if we used Bennett's inequality instead of Hoeffding in point 6 but with the computed empirical variance as our guess for the variance?"
   ]
  },
  {
   "cell_type": "code",
   "execution_count": 34,
   "id": "49e6fa33",
   "metadata": {
    "deletable": false,
    "lx_assignment_number": "4",
    "lx_assignment_type": "ASSIGNMENT",
    "lx_assignment_type2print": "Assignment",
    "lx_problem_cell_type": "PROBLEM",
    "lx_problem_number": "1",
    "lx_problem_points": "24"
   },
   "outputs": [
    {
     "name": "stdout",
     "output_type": "stream",
     "text": [
      "<class 'numpy.ndarray'>\n",
      "(20066,)\n",
      "(5016,)\n",
      "(8362,)\n",
      "['advice Talk to your neighbours family to exchange phone numbers create contact list with phone numbers of neighbours schools employer chemist GP set up online shopping accounts if poss adequate supplies of regular meds but not over order'\n",
      " 'Coronavirus Australia: Woolworths to give elderly, disabled dedicated shopping hours amid COVID-19 outbreak https://t.co/bInCA9Vp8P'\n",
      " \"My food stock is not the only one which is empty...\\r\\n\\r\\n\\r\\n\\r\\nPLEASE, don't panic, THERE WILL BE ENOUGH FOOD FOR EVERYONE if you do not take more than you need. \\r\\n\\r\\nStay calm, stay safe.\\r\\n\\r\\n\\r\\n\\r\\n#COVID19france #COVID_19 #COVID19 #coronavirus #confinement #Confinementotal #ConfinementGeneral https://t.co/zrlG0Z520j\"\n",
      " ...\n",
      " 'Response to complaint not provided citing COVID-19 related delays. Yet prompt in rejecting policy before consumer TAT is over. Way to go ?'\n",
      " 'You know itÂ\\x92s getting tough when @KameronWilds  is rationing toilet paper #coronavirus #toiletpaper @kroger martinsville, help us out!!'\n",
      " \"@TartiiCat Well new/used Rift S are going for $700.00 on Amazon rn although the normal market price is usually $400.00 . Prices are really crazy right now for vr headsets since HL Alex was announced and it's only been worse with COVID-19. Up to you whethe\"]\n"
     ]
    }
   ],
   "source": [
    "\n",
    "# Part 1\n",
    "\n",
    "# Load the data from the file specified in the problem definition and make sure that it is loaded using\n",
    "# the search path `data/Corona_NLP_train.csv`. This is to make sure the autograder and your computer have the same\n",
    "# file path and can load the data correctly.\n",
    "\n",
    "# Contrary to how many other problems are structured, this problem actually requires you to\n",
    "# have X on the shape (n_samples, ) that is a 1-dimensional array. Otherwise it will cause a bunch\n",
    "# of errors in the autograder or also in for instance CountVectorizer.\n",
    "\n",
    "# Make sure that all your data is numpy arrays and not pandas dataframes or series.\n",
    "import numpy as np\n",
    "\n",
    "import pandas as pd\n",
    "\n",
    "from sklearn.model_selection import train_test_split\n",
    "\n",
    "df = pd.read_csv('data/Corona_NLP_train.csv', encoding='latin1')\n",
    "\n",
    "#Drop all rows in df with neutral sentiment\n",
    "df = df[df['Sentiment'] != 'Neutral']\n",
    "\n",
    "X = df['OriginalTweet']\n",
    "X = X.tolist()\n",
    "X = np.array(X)\n",
    "print(type(X))\n",
    "\n",
    "# List comprehension\n",
    "Y = [1 if sentiment in ['Positive', 'Extremely Positive'] else 0 for sentiment in df['Sentiment']] # else None for sentiment in df['Sentiment']]\n",
    "Y = np.array(Y)\n",
    "#X_train = X[:int(len(X)*0.60)] # 65 %\n",
    "#Y_train = Y[:int(len(Y)*0.60)]\n",
    "\n",
    "#X_test = X[int(len(X)*0.60):int(len(X)*0.75)] # 15 %\n",
    "#Y_test = Y[int(len(Y)*0.60):int(len(Y)*0.75)]\n",
    "\n",
    "#X_valid = X[int(len(X)*0.75):]\n",
    "#Y_valid = Y[int(len(X)*0.75):]\n",
    "\n",
    "# I Think the auto grader likes this way better, because it rounds in the same way the answer is\n",
    "X_train, X_temp, Y_train, Y_temp = train_test_split(X, Y, train_size=0.6, shuffle=False)\n",
    "\n",
    "X_test, X_valid, Y_test, Y_valid = train_test_split(X_temp, Y_temp, train_size=0.375, shuffle=False)\n",
    "\n",
    "\n",
    "print(X_train.shape)\n",
    "print(X_test.shape)\n",
    "print(X_valid.shape)\n",
    "\n",
    "print(X)"
   ]
  },
  {
   "cell_type": "code",
   "execution_count": 35,
   "id": "078fe203",
   "metadata": {
    "deletable": false,
    "lx_assignment_number": "4",
    "lx_assignment_type": "ASSIGNMENT",
    "lx_assignment_type2print": "Assignment",
    "lx_problem_cell_type": "PROBLEM",
    "lx_problem_number": "1",
    "lx_problem_points": "24"
   },
   "outputs": [
    {
     "name": "stdout",
     "output_type": "stream",
     "text": [
      "[Pipeline] ........ (step 1 of 2) Processing vectorizer, total=   0.6s\n",
      "[Pipeline]  (step 2 of 2) Processing logistic_regression, total=   1.8s\n",
      "Predicted probabilities for the first 5 test samples:\n",
      "[[0.87766879 0.12233121]\n",
      " [0.99712779 0.00287221]\n",
      " [0.03468536 0.96531464]\n",
      " [0.7988057  0.2011943 ]\n",
      " [0.43882767 0.56117233]]\n"
     ]
    }
   ],
   "source": [
    "\n",
    "# Part 2\n",
    "\n",
    "# Train a machine learning model or pipeline that can take the raw strings from X and predict Y=0,1 depending on the\n",
    "# sentiment of the tweet. Store the trained model in the variable `model`.\n",
    "\n",
    "#Convert X using `CountVectorizer`as the first step. The step that comes after should be a `LogisticRegression` model, \n",
    "# but for this to work you need to put together the `CountVectorizer` and the `LogisticRegression` model into a [`Pipeline`]\n",
    "# Fill in the variable `model` such that it accepts the raw text as input and outputs a number $0$ or $1$, make sure that\n",
    "#  `model.predict_proba` works for this. \n",
    "\n",
    "from sklearn.feature_extraction.text import CountVectorizer\n",
    "from sklearn.pipeline import Pipeline\n",
    "from sklearn.linear_model import LogisticRegression\n",
    "#vectorizer = CountVectorizer(encoding='latin1')\n",
    "#vectorizer.fit(X_train)\n",
    "#print(vectorizer)\n",
    "#print(\"Vocabulary: \", vectorizer.vocabulary_) # prints unique words and indices\n",
    "#encode\n",
    "#vector = vectorizer.transform(X_train)\n",
    "\n",
    "# Summarizing the Encoded Texts\n",
    "#print(\"Encoded Document is:\")\n",
    "#print(vector.toarray())\n",
    "\n",
    "\n",
    "# verbose outputs messages for debugging. Added max_iter=1000 because default is 100 and gave a warning.\n",
    "model = Pipeline([('vectorizer', CountVectorizer(encoding='latin1')), ('logistic_regression', LogisticRegression(solver='liblinear', max_iter=1000))], verbose = True)\n",
    "\n",
    "# fitting the data in the pipe\n",
    "model.fit(X_train, Y_train) # Automatically handles fitting of countvectorizer and logistic regression\n",
    "y_pred = model.predict(X_test) # Works, at least prints.\n",
    "model.predict_proba(X_test) # Works, it at least prints.\n",
    "\n",
    "# Test predict_proba functionality\n",
    "proba = model.predict_proba(X_test[:5])\n",
    "print(\"Predicted probabilities for the first 5 test samples:\")\n",
    "print(proba)"
   ]
  },
  {
   "cell_type": "code",
   "execution_count": 36,
   "id": "ec6fd1d4",
   "metadata": {
    "deletable": false,
    "lx_assignment_number": "4",
    "lx_assignment_type": "ASSIGNMENT",
    "lx_assignment_type2print": "Assignment",
    "lx_problem_cell_type": "PROBLEM",
    "lx_problem_number": "1",
    "lx_problem_points": "24"
   },
   "outputs": [
    {
     "name": "stdout",
     "output_type": "stream",
     "text": [
      "precision for 0: 0.8579595426561126\n",
      "precision for 1: 0.8708971553610503\n",
      "recall for 0: 0.8464208242950109\n",
      "recall for 1: 0.8808557727775729\n"
     ]
    }
   ],
   "source": [
    "\n",
    "# Part 3\n",
    "from sklearn.metrics import precision_score\n",
    "from sklearn.metrics import recall_score\n",
    "# Evaluate the model on the test set and calculate precision, and recall on both classes. Store the results in the\n",
    "# variables `precision_0`, `precision_1`, `recall_0`, `recall_1`.\n",
    "\n",
    "# y_true, y_pred\n",
    "precision_0 = precision_score(Y_test, y_pred, pos_label=0)\n",
    "print(f\"precision for 0: {precision_0}\")\n",
    "precision_1 = precision_score(Y_test, y_pred, pos_label=1)\n",
    "print(f\"precision for 1: {precision_1}\")\n",
    "\n",
    "recall_0 = recall_score(Y_test, y_pred, pos_label=0)\n",
    "print(f\"recall for 0: {recall_0}\")\n",
    "recall_1 = recall_score(Y_test, y_pred, pos_label=1)\n",
    "print(f\"recall for 1: {recall_1}\")"
   ]
  },
  {
   "cell_type": "code",
   "execution_count": 37,
   "id": "10698374",
   "metadata": {
    "deletable": false,
    "lx_assignment_number": "4",
    "lx_assignment_type": "ASSIGNMENT",
    "lx_assignment_type2print": "Assignment",
    "lx_problem_cell_type": "PROBLEM",
    "lx_problem_number": "1",
    "lx_problem_points": "24"
   },
   "outputs": [
    {
     "name": "stdout",
     "output_type": "stream",
     "text": [
      "cost: 0.38120440138739387\n"
     ]
    }
   ],
   "source": [
    "\n",
    "# Part 4\n",
    "\n",
    "def cost(model,threshold,X,Y):\n",
    "    # Hint, make sure that the model has a predict_proba method\n",
    "    # think about how the decision is made based on the probabilities\n",
    "    # and how the threshold can be used to make the decision.\n",
    "    # For reference take a look at the lecture notes \"Bayes classifier\"\n",
    "    # which contains how the decision is made based on the probabilities when the threshold is 0.5.\n",
    "    \n",
    "    # Fill in what is missing to compute the cost and return it\n",
    "    # Note that we are interested in average cost\n",
    "\n",
    "    #4. [3p] Let us now define a cost function\n",
    "    #* A positive tweet that is classified as negative will have a cost of 1\n",
    "    #* A negative tweet that is classified as positive will have a cost of 5\n",
    "    #* Correct classifications cost 0\n",
    "   # \n",
    "   # complete filling the function `cost` to compute the cost of a prediction model under a certain prediction \n",
    "   # threshold (recall our precision recall lecture and the `predict_proba` function from trained models). \n",
    "\n",
    "    y_pred_proba1 = model.predict_proba(X)[:, 1] # probs for class 1 POSITIVE\n",
    "\n",
    "    #print(model.classes_) # To see which order classes are in\n",
    "\n",
    "    # bayes classifier rule says 1 if r(x) > 1/2, else 0\n",
    "    # Assume that the model is fitted\n",
    "\n",
    "\n",
    "    # does same as following loop\n",
    "    #y_pred = (y_pred_proba1 >= threshold).astype(int) \n",
    "\n",
    "    #y_pred = []\n",
    "    #for i in range(len(y_pred_proba1)):\n",
    "    #    if y_pred_proba1[i] >= threshold: # if prob that 1 is predicted is at least threshold\n",
    "    #        y_pred.append(1)\n",
    "    #    else:\n",
    "    #        y_pred.append(0)\n",
    "\n",
    "    predictions = (y_pred_proba1 >= threshold).astype(int)\n",
    "    # Where Y == 1, put the boolean value of y_pred == 0 but make into int (1 true 0 false), same if y_pred == 1 but take times 5\n",
    "    cost_list = np.where(Y == 1, (predictions == 0).astype(int), (predictions == 1).astype(int) * 5)\n",
    "    cost_list \n",
    "    cost_avg = np.mean(cost_list)\n",
    "    return cost_avg\n",
    "\n",
    "\n",
    "\n",
    "    #cost_list = []\n",
    "    #for i in range (len(Y)):\n",
    "    #    if Y[i] == 1: # if positive tweet\n",
    "    #        if y_pred[i] == 1:\n",
    "    #            cost_list.append(0)\n",
    "    #        else:\n",
    "    #            cost_list.append(1)\n",
    "    #    if Y[i] == 0: # If negative tweet\n",
    "    #        if y_pred[i] == 0:\n",
    "    #            cost_list.append(0)\n",
    "    #        else:\n",
    "    #            cost_list.append(5)\n",
    "    #cost_avg = sum(cost_list)/len(Y) # Divide by length of list\n",
    "\n",
    "\n",
    "\n",
    "\n",
    "print(\"cost: \" + str(cost(model, 0.3, X, Y))) # Average cost 2.167 for threshold 0.5, \n",
    "\n",
    "\n"
   ]
  },
  {
   "cell_type": "code",
   "execution_count": 38,
   "id": "b21963ec",
   "metadata": {
    "deletable": false,
    "lx_assignment_number": "4",
    "lx_assignment_type": "ASSIGNMENT",
    "lx_assignment_type2print": "Assignment",
    "lx_problem_cell_type": "PROBLEM",
    "lx_problem_number": "1",
    "lx_problem_points": "24"
   },
   "outputs": [
    {
     "name": "stdout",
     "output_type": "stream",
     "text": [
      "done\n",
      "0.2727272727272727\n",
      "0.8\n"
     ]
    }
   ],
   "source": [
    "\n",
    "# Part 5\n",
    "\n",
    "# Generate thresholds from 0.6 to 1.0 with 0.01 increments\n",
    "\n",
    "thresholds = np.arange(0.7, 1.01, 0.01) #np.linspace(0, 1, 101)# # linspace same \n",
    "\n",
    "print(\"done\")\n",
    "\n",
    "lowest = 100\n",
    "best_threshold1 = 0\n",
    "for threshold1 in thresholds:\n",
    "    current = cost(model, threshold1, X_test, Y_test)\n",
    "    #print(f\"current: {current}\")\n",
    "    if current < lowest:\n",
    "        lowest = current\n",
    "        best_threshold1 = threshold1\n",
    "    #print(f\"lowest cost: {lowest}. Best threshold: {best_threshold1}\")\n",
    "\n",
    "print(lowest)\n",
    "print(best_threshold1)\n",
    "\n",
    "# lowest cost: 0.2727272727272727. Best threshold: 0.8100000000000002\n",
    "optimal_threshold = best_threshold1#0.8100000000000\n",
    "cost_at_optimal_threshold = lowest# 0.2727272727272727\n",
    "\n",
    "# Find the optimal threshold for the model on the test set. Store the threshold in the variable `optimal_threshold`\n",
    "# and the cost at the optimal threshold in the variable `cost_at_optimal_threshold` evaluated on the test set."
   ]
  },
  {
   "cell_type": "code",
   "execution_count": 39,
   "id": "79a1c5e6",
   "metadata": {
    "deletable": false,
    "lx_assignment_number": "4",
    "lx_assignment_type": "ASSIGNMENT",
    "lx_assignment_type2print": "Assignment",
    "lx_problem_cell_type": "PROBLEM",
    "lx_problem_number": "1",
    "lx_problem_points": "24"
   },
   "outputs": [
    {
     "name": "stdout",
     "output_type": "stream",
     "text": [
      "optimal cost 0.27744558718010043\n",
      "epsilon 0.08899567661998982\n",
      "Cost with range (correct): (np.float64(0.18844991056011062), np.float64(0.36644126380009023))\n",
      "Cost without range: (np.float64(0.25964645185610247), np.float64(0.2952447225040984))\n"
     ]
    }
   ],
   "source": [
    "\n",
    "# Part 6\n",
    "\n",
    "#6. [4p] With your newly computed threshold value, compute the cost of putting this model in production by computing \n",
    "# the cost using the validation data. \n",
    "# Also provide a confidence interval of the cost using Hoeffdings inequality with a 99% confidence.\n",
    "\n",
    "cost_at_optimal_threshold_valid = cost(model, optimal_threshold, X_valid, Y_valid)\n",
    "print(f\"optimal cost {cost_at_optimal_threshold_valid}\")\n",
    "# remember to take cost range into account\n",
    "cost_range = 5 # Since cost can be from 0 - 5, multiply epsilon by range (5)\n",
    "epsilon = np.sqrt(np.log(2/0.01) / (2 * len(Y_valid))) * cost_range\n",
    "print(f\"epsilon {epsilon}\")\n",
    "epsilon_wo_range = np.sqrt(np.log(2/0.01) / (2 * len(Y_valid)))\n",
    "cost_interval_valid = cost_at_optimal_threshold_valid - epsilon, cost_at_optimal_threshold_valid + epsilon\n",
    "print(f\"Cost with range (correct): {cost_interval_valid}\")\n",
    "print(f\"Cost without range: {cost_at_optimal_threshold_valid - epsilon_wo_range, cost_at_optimal_threshold_valid + epsilon_wo_range}\")\n",
    "assert(type(cost_interval_valid) == tuple)\n",
    "assert(len(cost_interval_valid) == 2)"
   ]
  },
  {
   "cell_type": "code",
   "execution_count": 40,
   "id": "e3bc0760",
   "metadata": {
    "deletable": false,
    "lx_assignment_number": "4",
    "lx_assignment_type": "ASSIGNMENT",
    "lx_assignment_type2print": "Assignment",
    "lx_problem_cell_type": "PROBLEM",
    "lx_problem_number": "1",
    "lx_problem_points": "24"
   },
   "outputs": [
    {
     "name": "stdout",
     "output_type": "stream",
     "text": [
      "(np.float64(0.2502933787639524), np.float64(0.30459779559624844))\n"
     ]
    }
   ],
   "source": [
    "\n",
    "# Part 7\n",
    "\n",
    "def cost_random_tweet(model, threshold, X, Y):\n",
    "    probabilities = model.predict_proba(X)[:, 1] # probability for a tweet to be positive\n",
    "    false_negatives = (1 - (probabilities >= threshold).astype(int)) * Y\n",
    "    false_positives = 5 * (1-Y) * (probabilities >= threshold).astype(int)\n",
    "    C = false_negatives + false_positives\n",
    "    return C\n",
    "\n",
    "# C for validation set\n",
    "C_valid = cost_random_tweet(model, optimal_threshold, X_valid, Y_valid)\n",
    "\n",
    "# Variance\n",
    "# Without ddof its population var \n",
    "# (if data is not just sample), with ddof its sample variance.\n",
    "variance_of_C = np.var(C_valid, ddof=1)  \n",
    "\n",
    "# Bennett's inequality\n",
    "# gives \"probabilistic bound on the deviation of a sample mean from the true mean\"\n",
    "# considers both variance and sample mean\n",
    "num_validation_samples = len(C_valid)\n",
    "confidence = 0.99\n",
    "delta = 1 - confidence\n",
    "# bennet's inequality formula\n",
    "# sqrt(2 * var * ln(1/delta) / n)\n",
    "epsilon = np.sqrt((2 * variance_of_C * np.log(1 / delta)) / num_validation_samples)\n",
    "\n",
    "C_mean= np.mean(C_valid)\n",
    "\n",
    "interval_of_C = C_mean - epsilon, C_mean + epsilon\n",
    "\n",
    "print(interval_of_C)\n",
    "\n",
    "assert(type(interval_of_C) == tuple)\n",
    "assert(len(interval_of_C) == 2)"
   ]
  },
  {
   "cell_type": "code",
   "execution_count": null,
   "id": "bf6ade26",
   "metadata": {},
   "outputs": [],
   "source": []
  }
 ],
 "metadata": {
  "kernelspec": {
   "display_name": "Python 3",
   "language": "python",
   "name": "python3"
  },
  "language_info": {
   "codemirror_mode": {
    "name": "ipython",
    "version": 3
   },
   "file_extension": ".py",
   "mimetype": "text/x-python",
   "name": "python",
   "nbconvert_exporter": "python",
   "pygments_lexer": "ipython3",
   "version": "3.9.6"
  },
  "lx_assignment_number": 4,
  "lx_course_instance": "2024",
  "lx_course_name": "Introduction to Data Science",
  "lx_course_number": "1MS041"
 },
 "nbformat": 4,
 "nbformat_minor": 5
}
