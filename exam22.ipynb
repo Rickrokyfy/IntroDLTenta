{
 "cells": [
  {
   "cell_type": "code",
   "execution_count": 45,
   "metadata": {},
   "outputs": [],
   "source": [
    "import numpy as np\n",
    "import math"
   ]
  },
  {
   "cell_type": "code",
   "execution_count": 63,
   "metadata": {},
   "outputs": [
    {
     "name": "stdout",
     "output_type": "stream",
     "text": [
      "[0.24928936 0.24928936 0.24928936 0.24928936 0.24928936 0.2492893\n",
      " 0.24928868 0.2492833  0.24924629 0.24903903 0.2480857  0.2446082\n",
      " 0.23494397 0.21475642 0.18267139 0.14272522 0.10227043 0.0676281\n",
      " 0.04166472 0.02415113 0.01328746]\n"
     ]
    }
   ],
   "source": [
    "# Hint the PMF of N is p_N(k) where p_N is\n",
    "def binomial(n,k):\n",
    "    return (math.factorial(n)/(math.factorial(k)*math.factorial(n-k)))\n",
    "pN = 11/20\n",
    "p_N = lambda k: binomial(20,k)*(1-pN)**(20-k)*(pN)**k\n",
    "# Hint the PMF of Y is p_Y(n,k) where p_Y is\n",
    "pY = 1/2\n",
    "p_Y = lambda n, k: binomial(20-n,k)*((1-pY)**(20-n-k))*((pY)**k)\n",
    "\n",
    "results = np.array([])\n",
    "#For each threashold o to 20\n",
    "for threashold in range(0,21):\n",
    "    #Want the probability that know is less then 10 given that we pass\n",
    "    #For each case divide probability that we pass with under 10 known by probability that we pass\n",
    "    pass_probsum = 0\n",
    "    pass_know_under_10_probsum = 0\n",
    "    \n",
    "    for known in range(0,21):\n",
    "        #We can have a nr of correct guesses from 0 to 20-known\n",
    "        for correct_guess in range(0,21-known):\n",
    "            #Calc probability of this ocurring\n",
    "            occuranceprob = p_N(known)*p_Y(known,correct_guess)\n",
    "            if(correct_guess + known >= threashold and known <10):\n",
    "                pass_know_under_10_probsum += occuranceprob\n",
    "                pass_probsum += occuranceprob\n",
    "            elif(correct_guess + known >= threashold):\n",
    "                pass_probsum += occuranceprob\n",
    "    results = np.append(results, pass_know_under_10_probsum/pass_probsum)\n",
    "print(results)"
   ]
  },
  {
   "cell_type": "code",
   "execution_count": 64,
   "metadata": {},
   "outputs": [
    {
     "name": "stdout",
     "output_type": "stream",
     "text": [
      "17\n"
     ]
    }
   ],
   "source": [
    "#Find first entry leq 10%\n",
    "for i in range(len(results)):\n",
    "    if results[i]<0.1:\n",
    "        print(i)\n",
    "        break"
   ]
  },
  {
   "cell_type": "code",
   "execution_count": 90,
   "metadata": {},
   "outputs": [],
   "source": [
    "\n",
    "\n",
    "def problem2_LCG(size=None, seed = 0):\n",
    "    \"\"\"\n",
    "    A linear congruential generator that generates pseudo random numbers according to size.\n",
    "    \n",
    "    Parameters\n",
    "    -------------\n",
    "    size : an integer denoting how many samples should be produced\n",
    "    seed : the starting point of the LCG, i.e. u0 in the notes.\n",
    "    \n",
    "    Returns\n",
    "    -------------\n",
    "    out : a list of the pseudo random numbers\n",
    "    \"\"\"\n",
    "    m = 2**31-1\n",
    "    a = 10101 \n",
    "    b = 12345 \n",
    "    \n",
    "    result = []\n",
    "    for _ in range(size):\n",
    "        seed = (a*seed+b)%m\n",
    "        result.append(seed)\n",
    "    \n",
    "    return result"
   ]
  },
  {
   "cell_type": "code",
   "execution_count": 91,
   "metadata": {},
   "outputs": [],
   "source": [
    "\n",
    "def problem2_uniform(generator=None, period = 1, size=None, seed=0):\n",
    "    \"\"\"\n",
    "    Takes a generator and produces samples from the uniform [0,1] distribution according\n",
    "    to size.\n",
    "    \n",
    "    Parameters\n",
    "    -------------\n",
    "    generator : a function of type generator(size,seed) and produces the same result as problem1_LCG, i.e. pseudo random numbers in the range {0,1,...,period-1}\n",
    "    period : the period of the generator\n",
    "    seed : the seed to be used in the generator provided\n",
    "    size : an integer denoting how many samples should be produced\n",
    "    \n",
    "    Returns\n",
    "    --------------\n",
    "    out : a list of the uniform pseudo random numbers\n",
    "    \"\"\"\n",
    "    \n",
    "    #Generate the pseudo random numbers\n",
    "    pseudo = generator(size, seed)\n",
    "    #Normalize the pseudo random numbers\n",
    "    pseudo = [x/period for x in pseudo]\n",
    "    return pseudo"
   ]
  },
  {
   "cell_type": "code",
   "execution_count": 104,
   "metadata": {},
   "outputs": [],
   "source": [
    "def pX(x):\n",
    "    return (np.pi/2)*abs(np.sin(x*2*np.pi))\n",
    "\n",
    "def problem2_accept_reject(uniformGenerator=None, size=None, seed=0):\n",
    "    \"\"\"\n",
    "    Takes a generator that produces uniform pseudo random [0,1] numbers\n",
    "    and produces samples from (pi/2)*abs(sin(x*2*pi)) using an Accept-Reject\n",
    "    sampler with the uniform distribution as the proposal distribution\n",
    "    Parameters\n",
    "    -------------\n",
    "    generator : a function of the type generator(size,seed) that produces uniform pseudo random numbers from [0,1]\n",
    "    seed : the seed to be used in the generator provided\n",
    "    size : an integer denoting how many samples should be produced\n",
    "    Returns\n",
    "    --------------\n",
    "    out : a list of the pseudo random numbers with the specified distribution\n",
    "    \"\"\"\n",
    "    results = []\n",
    "    while len(results) < size:\n",
    "        # print(len(results))\n",
    "        #Generate as many proposals and accept/reject as remains\n",
    "        proposal = uniformGenerator( size - len(results), seed)\n",
    "        seed = problem2_LCG(1,seed)[0]\n",
    "        accept_threashold = uniformGenerator( size - len(results), seed)\n",
    "        seed = problem2_LCG(1,seed)[0]\n",
    "        #Adjusting constant M for given interval given by 1*M = pi/2 -> M =pi/2\n",
    "        M = np.pi/2\n",
    "        #For each point\n",
    "        for i in range(len(proposal)):\n",
    "            rx = pX(proposal[i])/M\n",
    "            if accept_threashold[i]<rx:\n",
    "                results.append(proposal[i])\n",
    "    \n",
    "    \n",
    "    return results"
   ]
  },
  {
   "cell_type": "code",
   "execution_count": 109,
   "metadata": {},
   "outputs": [
    {
     "name": "stdout",
     "output_type": "stream",
     "text": [
      "LCG output: [22446, 226739391, 1077033134, 2107026824, 1515019799, 246533522, 1301571194, 275756005, 125128691, 1204535700]\n",
      "Uniform sampler [1.0452233259776716e-05, 0.1055837567455991, 0.5015326358850731, 0.981160823712666, 0.7054860702275699, 0.11480111727248929, 0.6060913180029445, 0.12840889633093444, 0.05826758735732529, 0.5609056449313209]\n",
      "Accept-Reject sampler [0.1055837567455991, 0.7054860702275699, 0.11480111727248929, 0.6060913180029445, 0.12840889633093444, 0.707925199860672, 0.7524495412374146, 0.1156577552276001, 0.258991302577309, 0.7172868958289208, 0.3149405165179356, 0.21416309625569876, 0.7054860702275699, 0.11480111727248929, 0.6060913180029445, 0.12840889633093444, 0.7054860702275699, 0.11480111727248929, 0.6060913180029445, 0.12840889633093444]\n"
     ]
    },
    {
     "data": {
      "text/plain": [
       "(array([0.03243211, 0.08088008, 0.14254112, 0.19158968, 0.22542318,\n",
       "        0.27507234, 0.32852526, 0.35955598, 0.42842416, 0.47066598,\n",
       "        0.50469968, 0.56175617, 0.58237658, 0.64463822, 0.75594843,\n",
       "        0.75554803, 0.75194446, 0.86385526, 0.88107231, 0.90149252,\n",
       "        0.96355397, 0.98077101, 1.04203166, 1.05204157, 1.06845783,\n",
       "        1.10929826, 1.14873731, 1.18197021, 1.1943825 , 1.24022789,\n",
       "        1.31430122, 1.3389256 , 1.34913571, 1.36735375, 1.36555196,\n",
       "        1.41039636, 1.43722292, 1.48306831, 1.44683244, 1.46645186,\n",
       "        1.54913372, 1.5287135 , 1.51069566, 1.54492956, 1.54432896,\n",
       "        1.57475909, 1.58376801, 1.58997415, 1.55694145, 1.55834284,\n",
       "        1.5629474 , 1.56154601, 1.5731575 , 1.60538942, 1.55333788,\n",
       "        1.5175024 , 1.50368873, 1.50308813, 1.55413867, 1.49447961,\n",
       "        1.46084631, 1.44543105, 1.46384928, 1.47245781, 1.46284829,\n",
       "        1.40479081, 1.35714364, 1.33432104, 1.30689389, 1.30048755,\n",
       "        1.22441223, 1.23422194, 1.15454306, 1.2160039 , 1.12451332,\n",
       "        1.10389291, 1.03642611, 1.06305248, 0.99878885, 0.95134188,\n",
       "        0.89068182, 0.85064218, 0.84944099, 0.76215457, 0.73032306,\n",
       "        0.67666994, 0.68307628, 0.59278689, 0.53733199, 0.51771256,\n",
       "        0.45144696, 0.40099701, 0.38077699, 0.30009711, 0.27807531,\n",
       "        0.2124103 , 0.15975817, 0.11891773, 0.06766699, 0.02362339,\n",
       "        0.02462438, 0.08588503, 0.12652527, 0.18858671, 0.22021803,\n",
       "        0.27567293, 0.32512189, 0.38097719, 0.42021603, 0.47186717,\n",
       "        0.49549056, 0.56676112, 0.60800195, 0.6140079 , 0.70910205,\n",
       "        0.74834089, 0.77176408, 0.81821007, 0.85564713, 0.89148261,\n",
       "        0.9481387 , 0.98697716, 0.98077101, 1.07566496, 1.07266199,\n",
       "        1.13712581, 1.13512383, 1.17055891, 1.20178983, 1.25844592,\n",
       "        1.26565306, 1.33572243, 1.34873532, 1.3725589 , 1.39798407,\n",
       "        1.45844393, 1.42961539, 1.45443997, 1.45904453, 1.46324869,\n",
       "        1.472658  , 1.50589091, 1.5285133 , 1.53311786, 1.52170657,\n",
       "        1.56755195, 1.52531013, 1.60118525, 1.55554006, 1.59958367,\n",
       "        1.50188694, 1.56935374, 1.51850339, 1.53431905, 1.53171648,\n",
       "        1.56034482, 1.52070557, 1.51189685, 1.49728238, 1.51409903,\n",
       "        1.54833293, 1.46024572, 1.52130617, 1.42100687, 1.39257872,\n",
       "        1.428214  , 1.35774423, 1.33792461, 1.33652322, 1.2836709 ,\n",
       "        1.23101877, 1.22140926, 1.18237061, 1.17736565, 1.11170064,\n",
       "        1.05804752, 1.07066001, 1.02801779, 0.97496526, 0.93612681,\n",
       "        0.91090184, 0.83262434, 0.80699897, 0.80799996, 0.73272543,\n",
       "        0.69528837, 0.6586521 , 0.63222594, 0.53372842, 0.52852326,\n",
       "        0.47166697, 0.42642218, 0.37016648, 0.3233201 , 0.26626361,\n",
       "        0.21120911, 0.16936768, 0.14073934, 0.08208126, 0.02482458]),\n",
       " array([5.94242476e-04, 5.58929223e-03, 1.05843420e-02, 1.55793917e-02,\n",
       "        2.05744415e-02, 2.55694912e-02, 3.05645410e-02, 3.55595907e-02,\n",
       "        4.05546405e-02, 4.55496902e-02, 5.05447400e-02, 5.55397897e-02,\n",
       "        6.05348395e-02, 6.55298892e-02, 7.05249390e-02, 7.55199887e-02,\n",
       "        8.05150385e-02, 8.55100882e-02, 9.05051380e-02, 9.55001877e-02,\n",
       "        1.00495237e-01, 1.05490287e-01, 1.10485337e-01, 1.15480387e-01,\n",
       "        1.20475436e-01, 1.25470486e-01, 1.30465536e-01, 1.35460586e-01,\n",
       "        1.40455635e-01, 1.45450685e-01, 1.50445735e-01, 1.55440785e-01,\n",
       "        1.60435834e-01, 1.65430884e-01, 1.70425934e-01, 1.75420984e-01,\n",
       "        1.80416033e-01, 1.85411083e-01, 1.90406133e-01, 1.95401183e-01,\n",
       "        2.00396232e-01, 2.05391282e-01, 2.10386332e-01, 2.15381382e-01,\n",
       "        2.20376431e-01, 2.25371481e-01, 2.30366531e-01, 2.35361581e-01,\n",
       "        2.40356630e-01, 2.45351680e-01, 2.50346730e-01, 2.55341780e-01,\n",
       "        2.60336829e-01, 2.65331879e-01, 2.70326929e-01, 2.75321979e-01,\n",
       "        2.80317029e-01, 2.85312078e-01, 2.90307128e-01, 2.95302178e-01,\n",
       "        3.00297228e-01, 3.05292277e-01, 3.10287327e-01, 3.15282377e-01,\n",
       "        3.20277427e-01, 3.25272476e-01, 3.30267526e-01, 3.35262576e-01,\n",
       "        3.40257626e-01, 3.45252675e-01, 3.50247725e-01, 3.55242775e-01,\n",
       "        3.60237825e-01, 3.65232874e-01, 3.70227924e-01, 3.75222974e-01,\n",
       "        3.80218024e-01, 3.85213073e-01, 3.90208123e-01, 3.95203173e-01,\n",
       "        4.00198223e-01, 4.05193272e-01, 4.10188322e-01, 4.15183372e-01,\n",
       "        4.20178422e-01, 4.25173471e-01, 4.30168521e-01, 4.35163571e-01,\n",
       "        4.40158621e-01, 4.45153670e-01, 4.50148720e-01, 4.55143770e-01,\n",
       "        4.60138820e-01, 4.65133869e-01, 4.70128919e-01, 4.75123969e-01,\n",
       "        4.80119019e-01, 4.85114068e-01, 4.90109118e-01, 4.95104168e-01,\n",
       "        5.00099218e-01, 5.05094267e-01, 5.10089317e-01, 5.15084367e-01,\n",
       "        5.20079417e-01, 5.25074466e-01, 5.30069516e-01, 5.35064566e-01,\n",
       "        5.40059616e-01, 5.45054665e-01, 5.50049715e-01, 5.55044765e-01,\n",
       "        5.60039815e-01, 5.65034864e-01, 5.70029914e-01, 5.75024964e-01,\n",
       "        5.80020014e-01, 5.85015063e-01, 5.90010113e-01, 5.95005163e-01,\n",
       "        6.00000213e-01, 6.04995262e-01, 6.09990312e-01, 6.14985362e-01,\n",
       "        6.19980412e-01, 6.24975461e-01, 6.29970511e-01, 6.34965561e-01,\n",
       "        6.39960611e-01, 6.44955660e-01, 6.49950710e-01, 6.54945760e-01,\n",
       "        6.59940810e-01, 6.64935859e-01, 6.69930909e-01, 6.74925959e-01,\n",
       "        6.79921009e-01, 6.84916058e-01, 6.89911108e-01, 6.94906158e-01,\n",
       "        6.99901208e-01, 7.04896257e-01, 7.09891307e-01, 7.14886357e-01,\n",
       "        7.19881407e-01, 7.24876456e-01, 7.29871506e-01, 7.34866556e-01,\n",
       "        7.39861606e-01, 7.44856655e-01, 7.49851705e-01, 7.54846755e-01,\n",
       "        7.59841805e-01, 7.64836854e-01, 7.69831904e-01, 7.74826954e-01,\n",
       "        7.79822004e-01, 7.84817053e-01, 7.89812103e-01, 7.94807153e-01,\n",
       "        7.99802203e-01, 8.04797252e-01, 8.09792302e-01, 8.14787352e-01,\n",
       "        8.19782402e-01, 8.24777451e-01, 8.29772501e-01, 8.34767551e-01,\n",
       "        8.39762601e-01, 8.44757650e-01, 8.49752700e-01, 8.54747750e-01,\n",
       "        8.59742800e-01, 8.64737849e-01, 8.69732899e-01, 8.74727949e-01,\n",
       "        8.79722999e-01, 8.84718048e-01, 8.89713098e-01, 8.94708148e-01,\n",
       "        8.99703198e-01, 9.04698247e-01, 9.09693297e-01, 9.14688347e-01,\n",
       "        9.19683397e-01, 9.24678446e-01, 9.29673496e-01, 9.34668546e-01,\n",
       "        9.39663596e-01, 9.44658645e-01, 9.49653695e-01, 9.54648745e-01,\n",
       "        9.59643795e-01, 9.64638844e-01, 9.69633894e-01, 9.74628944e-01,\n",
       "        9.79623994e-01, 9.84619043e-01, 9.89614093e-01, 9.94609143e-01,\n",
       "        9.99604193e-01]),\n",
       " <BarContainer object of 200 artists>)"
      ]
     },
     "execution_count": 109,
     "metadata": {},
     "output_type": "execute_result"
    },
    {
     "data": {
      "image/png": "[encoded data removed]",
      "text/plain": [
       "<Figure size 640x480 with 1 Axes>"
      ]
     },
     "metadata": {},
     "output_type": "display_data"
    }
   ],
   "source": [
    "print(\"LCG output: %s\" % problem2_LCG(size=10, seed = 1))\n",
    "\n",
    "period = 2**31-1\n",
    "\n",
    "print(\"Uniform sampler %s\" % problem2_uniform(generator=problem2_LCG, period =period, size=10, seed=1))\n",
    "uniform_sampler = lambda size,seed: problem2_uniform(generator=problem2_LCG,period = period, size=size, seed=seed)\n",
    "print(\"Accept-Reject sampler %s\" % problem2_accept_reject(uniformGenerator =uniform_sampler,size=20,seed=1))\n",
    "res = problem2_accept_reject(uniformGenerator =uniform_sampler,size=1000000,seed=1)\n",
    "import matplotlib.pyplot as plt\n",
    "\n",
    "plt.hist(res, 200, density=True)"
   ]
  }
 ],
 "metadata": {
  "kernelspec": {
   "display_name": "Python 3",
   "language": "python",
   "name": "python3"
  },
  "language_info": {
   "codemirror_mode": {
    "name": "ipython",
    "version": 3
   },
   "file_extension": ".py",
   "mimetype": "text/x-python",
   "name": "python",
   "nbconvert_exporter": "python",
   "pygments_lexer": "ipython3",
   "version": "3.11.9"
  }
 },
 "nbformat": 4,
 "nbformat_minor": 2
}
