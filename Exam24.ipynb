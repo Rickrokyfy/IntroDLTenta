{
 "cells": [
  {
   "cell_type": "markdown",
   "id": "9159d569",
   "metadata": {
    "deletable": false
   },
   "source": [
    "# Exam 28th of August 2024, 8.00-13.00 for the course 1MS041 (Introduction to Data Science / Introduktion till dataanalys)\n",
    "\n",
    "## Instructions:\n",
    "1. Complete the problems by following instructions.\n",
    "2. When done, submit this file with your solutions saved, following the instruction sheet.\n",
    "\n",
    "This exam has 3 problems for a total of 40 points, to pass you need\n",
    "20 points. The bonus will be added to the score of the exam and rounded afterwards.\n",
    "\n",
    "## Some general hints and information:\n",
    "* Try to answer all questions even if you are uncertain.\n",
    "* Comment your code, so that if you get the wrong answer I can understand how you thought\n",
    "this can give you some points even though the code does not run.\n",
    "* Follow the instruction sheet rigorously.\n",
    "* This exam is partially autograded, but your code and your free text answers are manually graded anonymously.\n",
    "* If there are any questions, please ask the exam guards, they will escalate it to me if necessary.\n",
    "\n",
    "## Tips for free text answers\n",
    "* Be VERY clear with your reasoning, there should be zero ambiguity in what you are referring to.\n",
    "* If you want to include math, you can write LaTeX in the Markdown cells, for instance `$f(x)=x^2$` will be rendered as $f(x)=x^2$ and `$$f(x) = x^2$$` will become an equation line, as follows\n",
    "$$f(x) = x^2$$\n",
    "Another example is `$$f_{Y \\mid X}(y,x) = P(Y = y \\mid X = x) = \\exp(\\alpha \\cdot x + \\beta)$$` which renders as\n",
    "$$f_{Y \\mid X}(y,x) = P(Y = y \\mid X = x) = \\exp(\\alpha \\cdot x + \\beta)$$\n",
    "\n",
    "## Finally some rules:\n",
    "* You may not communicate with others during the exam, for example:\n",
    "    * You cannot ask for help in Stack-Overflow or other such help forums during the Exam.\n",
    "    * You may not communicate with AI's, for instance ChatGPT.\n",
    "    * Your on-line and off-line activity is being monitored according to the examination rules.\n",
    "\n",
    "## Good luck!"
   ]
  },
  {
   "cell_type": "code",
   "execution_count": 181,
   "id": "8bd37502",
   "metadata": {
    "deletable": false
   },
   "outputs": [],
   "source": [
    "# Insert your anonymous exam ID as a string in the variable below\n",
    "examID=\"hej\"\n"
   ]
  },
  {
   "cell_type": "markdown",
   "id": "99b92319",
   "metadata": {
    "deletable": false,
    "lx_assignment_number": "vB",
    "lx_assignment_type": "EXAM",
    "lx_assignment_type2print": "Exam",
    "lx_problem_cell_type": "PROBLEM",
    "lx_problem_number": "1",
    "lx_problem_points": "14"
   },
   "source": [
    "---\n",
    "## Exam vB, PROBLEM 1\n",
    "Maximum Points = 14"
   ]
  },
  {
   "cell_type": "markdown",
   "id": "555fbad0",
   "metadata": {
    "deletable": false,
    "lx_assignment_number": "vB",
    "lx_assignment_type": "EXAM",
    "lx_assignment_type2print": "Exam",
    "lx_problem_cell_type": "PROBLEM",
    "lx_problem_number": "1",
    "lx_problem_points": "14"
   },
   "source": [
    "\n",
    "In this problem you will do rejection sampling from complicated distributions, you will also be using your samples to compute certain integrals, a method known as Monte Carlo integration: (Keep in mind that choosing a good sampling distribution is often key to avoid too much rejection)\n",
    "\n",
    "1. [4p] Fill in the remaining part of the function `problem1_rejection` in order to produce samples from the below density using **rejection** sampling:\n",
    "\n",
    "$$\n",
    "    f[x] = C (\\sin(x))^{10}\n",
    "$$\n",
    "for $0 \\leq x \\leq \\pi$, where $C$ is a value such that $f$ above is a density (i.e. integrates to one). Hint: you do not need to know the value of $C$ to perform rejection sampling.\n",
    "\n",
    "2. [2p] Produce 10000 samples (**use fewer if it takes too long**) and put the answer in `problem1_samples` from the above distribution and plot the histogram. \n",
    "3. [2p] Define $X$ as a random variable with the density given in part 1. Denote $Y = \\left ( X - \\frac{\\pi}{2} \\right)^2$ and use the above 10000 samples to estimate\n",
    "$$\n",
    "    \\mathbb{E}[Y]\n",
    "$$\n",
    "and store the result in `problem1_expectation`.\n",
    "\n",
    "4. [2p] Use Hoeffdings inequality to produce a 95\\% confidence interval of the expectation above and store the result as a tuple in the variable `problem1_interval`\n",
    "\n",
    "5. [4p] Can you calculate an approximation of the value of $C$ from part 1 using random samples? Provide a plot of the histogram from part 2 together with the true density as a curve, recall that this requires the value of $C$. Explain what method you used and what answer you got."
   ]
  },
  {
   "cell_type": "markdown",
   "id": "a830b0aa",
   "metadata": {},
   "source": [
    "1. [4p] Fill in the remaining part of the function `problem1_rejection` in order to produce samples from the below density using **rejection** sampling:\n",
    "\n",
    "$$\n",
    "    f[x] = C (\\sin(x))^{10}\n",
    "$$\n",
    "for $0 \\leq x \\leq \\pi$, where $C$ is a value such that $f$ above is a density (i.e. integrates to one). Hint: you do not need to know the value of $C$ to perform rejection sampling.\n"
   ]
  },
  {
   "cell_type": "code",
   "execution_count": 182,
   "id": "41e76ee5",
   "metadata": {
    "deletable": false,
    "lx_assignment_number": "vB",
    "lx_assignment_type": "EXAM",
    "lx_assignment_type2print": "Exam",
    "lx_problem_cell_type": "PROBLEM",
    "lx_problem_number": "1",
    "lx_problem_points": "14"
   },
   "outputs": [
    {
     "name": "stdout",
     "output_type": "stream",
     "text": [
      "1.5709734502444095\n"
     ]
    },
    {
     "data": {
      "image/png": "[encoded data removed]",
      "text/plain": [
       "<Figure size 640x480 with 1 Axes>"
      ]
     },
     "metadata": {},
     "output_type": "display_data"
    }
   ],
   "source": [
    "\n",
    "# Part 1\n",
    "C = 1 # Placeholder\n",
    "\n",
    "import random as rand\n",
    "import matplotlib.pyplot as plt\n",
    "import numpy as np\n",
    "def prob_dens_function(x):\n",
    "    return C*(np.sin(x)**10)\n",
    "\n",
    "# RETURNS A NUMPY ARRAY of N samples with C * sin(x)**10\n",
    "def problem1_rejection(n_samples):\n",
    "    new_list = []\n",
    "    M = C*np.pi # Why M = pi? M must make sure that the proposal distribution * M >= the sample density FOR ALL POINTS INside sample density\n",
    "    while len(new_list) < n_samples: \n",
    "        randnum = rand.uniform(0, np.pi) # Selecting random point\n",
    "        prob_for_randnum = prob_dens_function(randnum) # finding prob for random point\n",
    "        rx = prob_for_randnum / M # threshold\n",
    "        if rand.uniform(0, 1) <= rx:\n",
    "            new_list.append(randnum)\n",
    "    return new_list\n",
    "\n",
    "print(np.mean(np.array(problem1_rejection(10000))))\n",
    "\n",
    "plt.hist(np.array(problem1_rejection(10000)), bins=50, density=True, alpha=0.9, color='g')\n",
    "plt.xlabel('x')\n",
    "plt.ylabel('Density')\n",
    "plt.show()\n"
   ]
  },
  {
   "cell_type": "markdown",
   "id": "1c356ce1",
   "metadata": {},
   "source": [
    "2. [2p] Produce 10000 samples (**use fewer if it takes too long**) and put the answer in `problem1_samples` from the above distribution and plot the histogram. "
   ]
  },
  {
   "cell_type": "code",
   "execution_count": 183,
   "id": "1ffda8e1",
   "metadata": {
    "deletable": false,
    "lx_assignment_number": "vB",
    "lx_assignment_type": "EXAM",
    "lx_assignment_type2print": "Exam",
    "lx_problem_cell_type": "PROBLEM",
    "lx_problem_number": "1",
    "lx_problem_points": "14"
   },
   "outputs": [
    {
     "name": "stdout",
     "output_type": "stream",
     "text": [
      "Defaulting to user installation because normal site-packages is not writeable\n",
      "Requirement already satisfied: matplotlib in /Users/loveklockars/Library/Python/3.9/lib/python/site-packages (3.9.4)\n",
      "Requirement already satisfied: contourpy>=1.0.1 in /Users/loveklockars/Library/Python/3.9/lib/python/site-packages (from matplotlib) (1.3.0)\n",
      "Requirement already satisfied: cycler>=0.10 in /Users/loveklockars/Library/Python/3.9/lib/python/site-packages (from matplotlib) (0.12.1)\n",
      "Requirement already satisfied: fonttools>=4.22.0 in /Users/loveklockars/Library/Python/3.9/lib/python/site-packages (from matplotlib) (4.55.3)\n",
      "Requirement already satisfied: kiwisolver>=1.3.1 in /Users/loveklockars/Library/Python/3.9/lib/python/site-packages (from matplotlib) (1.4.7)\n",
      "Requirement already satisfied: numpy>=1.23 in /Users/loveklockars/Library/Python/3.9/lib/python/site-packages (from matplotlib) (2.0.2)\n",
      "Requirement already satisfied: packaging>=20.0 in /Users/loveklockars/Library/Python/3.9/lib/python/site-packages (from matplotlib) (24.1)\n",
      "Requirement already satisfied: pillow>=8 in /Users/loveklockars/Library/Python/3.9/lib/python/site-packages (from matplotlib) (11.0.0)\n",
      "Requirement already satisfied: pyparsing>=2.3.1 in /Users/loveklockars/Library/Python/3.9/lib/python/site-packages (from matplotlib) (3.2.0)\n",
      "Requirement already satisfied: python-dateutil>=2.7 in /Users/loveklockars/Library/Python/3.9/lib/python/site-packages (from matplotlib) (2.9.0.post0)\n",
      "Requirement already satisfied: importlib-resources>=3.2.0 in /Users/loveklockars/Library/Python/3.9/lib/python/site-packages (from matplotlib) (6.4.5)\n",
      "Requirement already satisfied: zipp>=3.1.0 in /Users/loveklockars/Library/Python/3.9/lib/python/site-packages (from importlib-resources>=3.2.0->matplotlib) (3.20.2)\n",
      "Requirement already satisfied: six>=1.5 in /Applications/Xcode.app/Contents/Developer/Library/Frameworks/Python3.framework/Versions/3.9/lib/python3.9/site-packages (from python-dateutil>=2.7->matplotlib) (1.15.0)\n",
      "Note: you may need to restart the kernel to use updated packages.\n"
     ]
    },
    {
     "data": {
      "image/png": "[encoded data removed]",
      "text/plain": [
       "<Figure size 640x480 with 1 Axes>"
      ]
     },
     "metadata": {},
     "output_type": "display_data"
    }
   ],
   "source": [
    "# Part 2\n",
    "%pip install matplotlib\n",
    "import matplotlib.pyplot as plt\n",
    "\n",
    "problem1_samples = problem1_rejection(10000)\n",
    "\n",
    "hist1 = plt.hist(problem1_samples)\n",
    "plt.show(hist1)"
   ]
  },
  {
   "cell_type": "markdown",
   "id": "f01bf47f",
   "metadata": {},
   "source": [
    "3. [2p] Define $X$ as a random variable with the density given in part 1. Denote $Y = \\left ( X - \\frac{\\pi}{2} \\right)^2$ and use the above 10000 samples to estimate\n",
    "$$\n",
    "    \\mathbb{E}[Y]\n",
    "$$\n",
    "and store the result in `problem1_expectation`."
   ]
  },
  {
   "cell_type": "code",
   "execution_count": 184,
   "id": "586fc62f",
   "metadata": {
    "deletable": false,
    "lx_assignment_number": "vB",
    "lx_assignment_type": "EXAM",
    "lx_assignment_type2print": "Exam",
    "lx_problem_cell_type": "PROBLEM",
    "lx_problem_number": "1",
    "lx_problem_points": "14"
   },
   "outputs": [
    {
     "name": "stdout",
     "output_type": "stream",
     "text": [
      "TOTAL; 15689.758703994343\n",
      "mean X = 1.5689758703994405\n",
      "ANSWER: 0.09247468756348105\n"
     ]
    }
   ],
   "source": [
    "# Part 3\n",
    "import random as rand\n",
    "\n",
    "total = sum(problem1_samples)\n",
    "print(f\"TOTAL; {total}\")\n",
    "\n",
    "X = np.array(problem1_samples)\n",
    "Y = (X - np.pi/2)**2\n",
    "\n",
    "print(f\"mean X = {np.mean(X)}\")\n",
    "\n",
    "\n",
    "problem1_expectation = np.mean(Y)\n",
    "print(\"ANSWER: \" + str(problem1_expectation))"
   ]
  },
  {
   "cell_type": "code",
   "execution_count": 185,
   "id": "e9ba9156",
   "metadata": {
    "deletable": false,
    "lx_assignment_number": "vB",
    "lx_assignment_type": "EXAM",
    "lx_assignment_type2print": "Exam",
    "lx_problem_cell_type": "PROBLEM",
    "lx_problem_number": "1",
    "lx_problem_points": "14"
   },
   "outputs": [
    {
     "name": "stdout",
     "output_type": "stream",
     "text": [
      "max of expectation: 2.5575051498310697\n",
      "diff: 0.06701962348439873\n",
      "confidence interval: (np.float64(1.535466058657241), np.float64(1.60248568214164))\n"
     ]
    }
   ],
   "source": [
    "# Part 4\n",
    "\n",
    "\n",
    "\"\"\"\n",
    "4. [2p] Use Hoeffdings inequality to produce a 95\\% confidence interval of the expectation\n",
    "above and store the result as a tuple in the variable `problem1_interval`\n",
    "\"\"\"\n",
    "\n",
    "length = len(problem1_samples)\n",
    "\n",
    "\n",
    "print(f\"max of expectation: {max(problem1_samples)}\")\n",
    "range = (np.pi**2)/4 - 0 \n",
    "epsilon = np.sqrt(np.log(2/0.05) / (2 * length)) * range # multiply times the range of expectation\n",
    "\n",
    "problem1_interval = np.mean(problem1_samples) - epsilon, np.mean(problem1_samples) + epsilon\n",
    "print(f\"diff: {2*epsilon}\")\n",
    "print(f\"confidence interval: {problem1_interval}\")\n",
    "\n"
   ]
  },
  {
   "cell_type": "markdown",
   "id": "630855dd",
   "metadata": {},
   "source": [
    "5. [4p] Can you calculate an approximation of the value of $C$ from part 1 using random samples? Provide a plot of the histogram from part 2 together with the true density as a curve, recall that this requires the value of $C$. Explain what method you used and what answer you got."
   ]
  },
  {
   "cell_type": "code",
   "execution_count": 186,
   "id": "5c04d091",
   "metadata": {
    "deletable": false,
    "lx_assignment_number": "vB",
    "lx_assignment_type": "EXAM",
    "lx_assignment_type2print": "Exam",
    "lx_problem_cell_type": "PROBLEM",
    "lx_problem_number": "1",
    "lx_problem_points": "14"
   },
   "outputs": [],
   "source": [
    "# Part 5"
   ]
  },
  {
   "cell_type": "code",
   "execution_count": 187,
   "id": "b66bd807",
   "metadata": {
    "deletable": false,
    "lx_assignment_number": "vB",
    "lx_assignment_type": "EXAM",
    "lx_assignment_type2print": "Exam",
    "lx_problem_cell_type": "PROBLEM",
    "lx_problem_number": "1",
    "lx_problem_points": "14"
   },
   "outputs": [
    {
     "name": "stdout",
     "output_type": "stream",
     "text": [
      "0.637358431615276\n"
     ]
    },
    {
     "data": {
      "image/png": "[encoded data removed]",
      "text/plain": [
       "<Figure size 640x480 with 1 Axes>"
      ]
     },
     "metadata": {},
     "output_type": "display_data"
    }
   ],
   "source": [
    "# Part 5\n",
    "\n",
    "# Write your code to produce the plot here\n",
    "\n",
    "#XXXXXXX\n",
    "\n",
    "# Calculate an approximation of the value of C using random samples\n",
    "problem1_C = 1/np.mean(problem1_samples)\n",
    "print(problem1_C)\n",
    "\n",
    "# Plot the histogram from part 2 together with the true density\n",
    "plt.hist(problem1_samples, bins=50, density=True, alpha=0.9, color='g', label='Sampled Data')\n",
    "\n",
    "# Plot the true density\n",
    "x = np.linspace(0, np.pi, 1000)\n",
    "true_density = (np.sin(x))**10\n",
    "plt.plot(x, true_density, label='True Density', color='r')\n",
    "\n",
    "plt.xlabel('x')\n",
    "plt.ylabel('Density')\n",
    "plt.ylim(0, 2)  # Set the y-axis limit to 1\n",
    "plt.legend()\n",
    "plt.show()"
   ]
  },
  {
   "cell_type": "markdown",
   "id": "745c6925",
   "metadata": {
    "deletable": false,
    "lx_assignment_number": "vB",
    "lx_assignment_type": "EXAM",
    "lx_assignment_type2print": "Exam",
    "lx_problem_cell_type": "PROBLEM",
    "lx_problem_number": "1",
    "lx_problem_points": "14"
   },
   "source": [
    "# Part 5\n",
    "\n",
    "**Double click this cell and directly edit below to answer part 5**\n",
    "\n",
    "### Begin explanation\n",
    "\n",
    "Bla di bla\n",
    "\n",
    "### End explanation"
   ]
  },
  {
   "cell_type": "markdown",
   "id": "eb192436",
   "metadata": {
    "deletable": false,
    "lx_assignment_number": "vB",
    "lx_assignment_type": "EXAM",
    "lx_assignment_type2print": "Exam",
    "lx_problem_cell_type": "Test",
    "lx_problem_number": "1",
    "lx_problem_points": "14"
   },
   "source": [
    "---\n",
    "#### Local Test for Exam vB, PROBLEM 1\n",
    "Evaluate cell below to make sure your answer is valid.                             You **should not** modify anything in the cell below when evaluating it to do a local test of                             your solution.\n",
    "You may need to include and evaluate code snippets from lecture notebooks in cells above to make the local test work correctly sometimes (see error messages for clues). This is meant to help you become efficient at recalling materials covered in lectures that relate to this problem. Such local tests will generally not be available in the exam."
   ]
  },
  {
   "cell_type": "code",
   "execution_count": 188,
   "id": "dc4a041c",
   "metadata": {
    "deletable": false,
    "lx_assignment_number": "vB",
    "lx_assignment_type": "EXAM",
    "lx_assignment_type2print": "Exam",
    "lx_problem_cell_type": "Test",
    "lx_problem_number": "1",
    "lx_problem_points": "14"
   },
   "outputs": [
    {
     "name": "stdout",
     "output_type": "stream",
     "text": [
      "Try again. You should return a numpy array from problem1_rejection\n",
      "Try again. your problem1_samples is not a numpy array\n",
      "Good, your problem1_expectation is a float\n",
      "Good, your problem1_interval is a tuple or list of length 2\n"
     ]
    }
   ],
   "source": [
    "\n",
    "# This cell is just to check that you got the correct formats of your answer\n",
    "import numpy as np\n",
    "try:\n",
    "    assert(isinstance(problem1_rejection(10), np.ndarray)) \n",
    "except:\n",
    "    print(\"Try again. You should return a numpy array from problem1_rejection\")\n",
    "else:\n",
    "    print(\"Good, your problem1_rejection returns a numpy array\")\n",
    "\n",
    "try:\n",
    "    assert(isinstance(problem1_samples, np.ndarray)) \n",
    "except:\n",
    "    print(\"Try again. your problem1_samples is not a numpy array\")\n",
    "else:\n",
    "    print(\"Good, your problem1_samples is a numpy array\")\n",
    "\n",
    "try:\n",
    "    assert(isinstance(problem1_expectation, float)) \n",
    "except:\n",
    "    print(\"Try again. your problem1_expectation is not a float\")\n",
    "else:\n",
    "    print(\"Good, your problem1_expectation is a float\")\n",
    "\n",
    "try:\n",
    "    assert(isinstance(problem1_interval, list) or isinstance(problem1_interval, tuple)) , \"problem1_interval not a tuple or list\"\n",
    "    assert(len(problem1_interval) == 2) , \"problem1_interval does not have length 2, it should have a lower bound and an upper bound\"\n",
    "except Exception as e:\n",
    "    print(e)\n",
    "else:\n",
    "    print(\"Good, your problem1_interval is a tuple or list of length 2\")"
   ]
  },
  {
   "cell_type": "markdown",
   "id": "29ede6dd",
   "metadata": {
    "deletable": false,
    "lx_assignment_number": "vB",
    "lx_assignment_type": "EXAM",
    "lx_assignment_type2print": "Exam",
    "lx_problem_cell_type": "PROBLEM",
    "lx_problem_number": "2",
    "lx_problem_points": "13"
   },
   "source": [
    "---\n",
    "## Exam vB, PROBLEM 2\n",
    "Maximum Points = 13"
   ]
  },
  {
   "cell_type": "markdown",
   "id": "694eb7eb",
   "metadata": {
    "deletable": false,
    "lx_assignment_number": "vB",
    "lx_assignment_type": "EXAM",
    "lx_assignment_type2print": "Exam",
    "lx_problem_cell_type": "PROBLEM",
    "lx_problem_number": "2",
    "lx_problem_points": "13"
   },
   "source": [
    "\n",
    "Consider the dataset `CORIS.csv` that you find in the data folder. The data set `CORIS.csv` contains cases of coronary heart disease (CHD) and variables associated with the patient's condition: systolic blood pressure, yearly tobacco use (in kg), low density lipoprotein (Idl), adiposity, family history (0 or 1), type A personality score (typea), obesity (body mass index), alcohol use, age, and the diagnosis of CHD (0 or 1).\n",
    "In this dataset the `X` corresponds to the measurements. The `Y` is a 0-1 label where 1 represents CHD and 0 does not. The code to load the data is prepared and so is the train-test-validation split and the training of the model. The model is stored in `problem2_pipe` which is a Pipeline object as often used in composite models in sklearn, you will find in the cell corresponding to the different parts, some sample code how to use the model.\n",
    "\n",
    "1. [3p] Use Hoeffdings inequality and compute the intervals for precision-recall etc. on the test set with 95% confidence.\n",
    "2. [3p] You are interested in minimizing the average cost of your classifier. The hospital wants to use your model as a screening tool, that is, if it finds that someone is classified as CHD we interpret this as further investigation needs to take place, otherwise we do noting. After some deliberations you come to the conclusion that the following \"costs\" should be used (note, this is all imaginary at this point),\n",
    "    * If someone has coronary heart disease but classified as not, we say it costs 300 **(this is the worst scenario)** \n",
    "    * If someone does not have coronary heart disease but classified as having it, we say it costs 10 **(this is less bad than the above issue)**\n",
    "    * If someone has coronary heart disease but classified as having it, costs 0 **(We did the right thing, no cost)**\n",
    "    * If someone does not have coronary heart disease but classified as not, costs 0 **(We did the right thing, no cost)**.\n",
    "\n",
    "complete filling the function `cost` to compute the cost of a prediction model under a certain prediction threshold (recall our precision recall lecture and the `predict_proba` function from the LogisticRegression (code provided)). \n",
    "\n",
    "3. [4p] Now, we wish to select the threshold of our classifier that minimizes the cost, we do that by checking say 100 evenly spaced proposal thresholds between 0 and 1. Compute the optimal threshold using the testing data and calculate the cost at the chosen threshold using the testing data.\n",
    "4. [3p] With your newly computed threshold value, compute the cost of putting this model in production by computing the cost using the validation data. Also provide a confidence interval of the cost using Hoeffdings inequality with a 99% confidence."
   ]
  },
  {
   "cell_type": "code",
   "execution_count": 189,
   "id": "161f9572",
   "metadata": {
    "deletable": false,
    "lx_assignment_number": "vB",
    "lx_assignment_type": "EXAM",
    "lx_assignment_type2print": "Exam",
    "lx_problem_cell_type": "PROBLEM",
    "lx_problem_number": "2",
    "lx_problem_points": "13"
   },
   "outputs": [
    {
     "ename": "FileNotFoundError",
     "evalue": "[Errno 2] No such file or directory: 'data/CORIS.csv'",
     "output_type": "error",
     "traceback": [
      "\u001b[0;31m---------------------------------------------------------------------------\u001b[0m",
      "\u001b[0;31mFileNotFoundError\u001b[0m                         Traceback (most recent call last)",
      "Cell \u001b[0;32mIn[189], line 7\u001b[0m\n\u001b[1;32m      4\u001b[0m \u001b[38;5;28;01mimport\u001b[39;00m \u001b[38;5;21;01mpandas\u001b[39;00m \u001b[38;5;28;01mas\u001b[39;00m \u001b[38;5;21;01mpd\u001b[39;00m\n\u001b[1;32m      5\u001b[0m \u001b[38;5;28;01mfrom\u001b[39;00m \u001b[38;5;21;01msklearn\u001b[39;00m\u001b[38;5;21;01m.\u001b[39;00m\u001b[38;5;21;01mmodel_selection\u001b[39;00m \u001b[38;5;28;01mimport\u001b[39;00m train_test_split\n\u001b[0;32m----> 7\u001b[0m CORISDataset \u001b[38;5;241m=\u001b[39m \u001b[43mpd\u001b[49m\u001b[38;5;241;43m.\u001b[39;49m\u001b[43mread_csv\u001b[49m\u001b[43m(\u001b[49m\u001b[38;5;124;43m\"\u001b[39;49m\u001b[38;5;124;43mdata/CORIS.csv\u001b[39;49m\u001b[38;5;124;43m\"\u001b[39;49m\u001b[43m,\u001b[49m\u001b[43mskiprows\u001b[49m\u001b[38;5;241;43m=\u001b[39;49m\u001b[43m[\u001b[49m\u001b[38;5;241;43m1\u001b[39;49m\u001b[43m,\u001b[49m\u001b[38;5;241;43m2\u001b[39;49m\u001b[43m]\u001b[49m\u001b[43m)\u001b[49m\n\u001b[1;32m      9\u001b[0m \u001b[38;5;66;03m# Initial data split into features and target\u001b[39;00m\n\u001b[1;32m     10\u001b[0m problem2_X \u001b[38;5;241m=\u001b[39m CORISDataset[[\u001b[38;5;124m'\u001b[39m\u001b[38;5;124msbp\u001b[39m\u001b[38;5;124m'\u001b[39m,\u001b[38;5;124m'\u001b[39m\u001b[38;5;124mtobacco\u001b[39m\u001b[38;5;124m'\u001b[39m,\u001b[38;5;124m'\u001b[39m\u001b[38;5;124mldl\u001b[39m\u001b[38;5;124m'\u001b[39m,\u001b[38;5;124m'\u001b[39m\u001b[38;5;124madiposity\u001b[39m\u001b[38;5;124m'\u001b[39m,\u001b[38;5;124m'\u001b[39m\u001b[38;5;124mfamhist\u001b[39m\u001b[38;5;124m'\u001b[39m,\u001b[38;5;124m'\u001b[39m\u001b[38;5;124mtypea\u001b[39m\u001b[38;5;124m'\u001b[39m,\u001b[38;5;124m'\u001b[39m\u001b[38;5;124mobesity\u001b[39m\u001b[38;5;124m'\u001b[39m,\u001b[38;5;124m'\u001b[39m\u001b[38;5;124malcohol\u001b[39m\u001b[38;5;124m'\u001b[39m,\u001b[38;5;124m'\u001b[39m\u001b[38;5;124mage\u001b[39m\u001b[38;5;124m'\u001b[39m]]\u001b[38;5;241m.\u001b[39mvalues \u001b[38;5;66;03m# Features\u001b[39;00m\n",
      "File \u001b[0;32m~/Library/Python/3.9/lib/python/site-packages/pandas/io/parsers/readers.py:1026\u001b[0m, in \u001b[0;36mread_csv\u001b[0;34m(filepath_or_buffer, sep, delimiter, header, names, index_col, usecols, dtype, engine, converters, true_values, false_values, skipinitialspace, skiprows, skipfooter, nrows, na_values, keep_default_na, na_filter, verbose, skip_blank_lines, parse_dates, infer_datetime_format, keep_date_col, date_parser, date_format, dayfirst, cache_dates, iterator, chunksize, compression, thousands, decimal, lineterminator, quotechar, quoting, doublequote, escapechar, comment, encoding, encoding_errors, dialect, on_bad_lines, delim_whitespace, low_memory, memory_map, float_precision, storage_options, dtype_backend)\u001b[0m\n\u001b[1;32m   1013\u001b[0m kwds_defaults \u001b[38;5;241m=\u001b[39m _refine_defaults_read(\n\u001b[1;32m   1014\u001b[0m     dialect,\n\u001b[1;32m   1015\u001b[0m     delimiter,\n\u001b[0;32m   (...)\u001b[0m\n\u001b[1;32m   1022\u001b[0m     dtype_backend\u001b[38;5;241m=\u001b[39mdtype_backend,\n\u001b[1;32m   1023\u001b[0m )\n\u001b[1;32m   1024\u001b[0m kwds\u001b[38;5;241m.\u001b[39mupdate(kwds_defaults)\n\u001b[0;32m-> 1026\u001b[0m \u001b[38;5;28;01mreturn\u001b[39;00m \u001b[43m_read\u001b[49m\u001b[43m(\u001b[49m\u001b[43mfilepath_or_buffer\u001b[49m\u001b[43m,\u001b[49m\u001b[43m \u001b[49m\u001b[43mkwds\u001b[49m\u001b[43m)\u001b[49m\n",
      "File \u001b[0;32m~/Library/Python/3.9/lib/python/site-packages/pandas/io/parsers/readers.py:620\u001b[0m, in \u001b[0;36m_read\u001b[0;34m(filepath_or_buffer, kwds)\u001b[0m\n\u001b[1;32m    617\u001b[0m _validate_names(kwds\u001b[38;5;241m.\u001b[39mget(\u001b[38;5;124m\"\u001b[39m\u001b[38;5;124mnames\u001b[39m\u001b[38;5;124m\"\u001b[39m, \u001b[38;5;28;01mNone\u001b[39;00m))\n\u001b[1;32m    619\u001b[0m \u001b[38;5;66;03m# Create the parser.\u001b[39;00m\n\u001b[0;32m--> 620\u001b[0m parser \u001b[38;5;241m=\u001b[39m \u001b[43mTextFileReader\u001b[49m\u001b[43m(\u001b[49m\u001b[43mfilepath_or_buffer\u001b[49m\u001b[43m,\u001b[49m\u001b[43m \u001b[49m\u001b[38;5;241;43m*\u001b[39;49m\u001b[38;5;241;43m*\u001b[39;49m\u001b[43mkwds\u001b[49m\u001b[43m)\u001b[49m\n\u001b[1;32m    622\u001b[0m \u001b[38;5;28;01mif\u001b[39;00m chunksize \u001b[38;5;129;01mor\u001b[39;00m iterator:\n\u001b[1;32m    623\u001b[0m     \u001b[38;5;28;01mreturn\u001b[39;00m parser\n",
      "File \u001b[0;32m~/Library/Python/3.9/lib/python/site-packages/pandas/io/parsers/readers.py:1620\u001b[0m, in \u001b[0;36mTextFileReader.__init__\u001b[0;34m(self, f, engine, **kwds)\u001b[0m\n\u001b[1;32m   1617\u001b[0m     \u001b[38;5;28mself\u001b[39m\u001b[38;5;241m.\u001b[39moptions[\u001b[38;5;124m\"\u001b[39m\u001b[38;5;124mhas_index_names\u001b[39m\u001b[38;5;124m\"\u001b[39m] \u001b[38;5;241m=\u001b[39m kwds[\u001b[38;5;124m\"\u001b[39m\u001b[38;5;124mhas_index_names\u001b[39m\u001b[38;5;124m\"\u001b[39m]\n\u001b[1;32m   1619\u001b[0m \u001b[38;5;28mself\u001b[39m\u001b[38;5;241m.\u001b[39mhandles: IOHandles \u001b[38;5;241m|\u001b[39m \u001b[38;5;28;01mNone\u001b[39;00m \u001b[38;5;241m=\u001b[39m \u001b[38;5;28;01mNone\u001b[39;00m\n\u001b[0;32m-> 1620\u001b[0m \u001b[38;5;28mself\u001b[39m\u001b[38;5;241m.\u001b[39m_engine \u001b[38;5;241m=\u001b[39m \u001b[38;5;28;43mself\u001b[39;49m\u001b[38;5;241;43m.\u001b[39;49m\u001b[43m_make_engine\u001b[49m\u001b[43m(\u001b[49m\u001b[43mf\u001b[49m\u001b[43m,\u001b[49m\u001b[43m \u001b[49m\u001b[38;5;28;43mself\u001b[39;49m\u001b[38;5;241;43m.\u001b[39;49m\u001b[43mengine\u001b[49m\u001b[43m)\u001b[49m\n",
      "File \u001b[0;32m~/Library/Python/3.9/lib/python/site-packages/pandas/io/parsers/readers.py:1880\u001b[0m, in \u001b[0;36mTextFileReader._make_engine\u001b[0;34m(self, f, engine)\u001b[0m\n\u001b[1;32m   1878\u001b[0m     \u001b[38;5;28;01mif\u001b[39;00m \u001b[38;5;124m\"\u001b[39m\u001b[38;5;124mb\u001b[39m\u001b[38;5;124m\"\u001b[39m \u001b[38;5;129;01mnot\u001b[39;00m \u001b[38;5;129;01min\u001b[39;00m mode:\n\u001b[1;32m   1879\u001b[0m         mode \u001b[38;5;241m+\u001b[39m\u001b[38;5;241m=\u001b[39m \u001b[38;5;124m\"\u001b[39m\u001b[38;5;124mb\u001b[39m\u001b[38;5;124m\"\u001b[39m\n\u001b[0;32m-> 1880\u001b[0m \u001b[38;5;28mself\u001b[39m\u001b[38;5;241m.\u001b[39mhandles \u001b[38;5;241m=\u001b[39m \u001b[43mget_handle\u001b[49m\u001b[43m(\u001b[49m\n\u001b[1;32m   1881\u001b[0m \u001b[43m    \u001b[49m\u001b[43mf\u001b[49m\u001b[43m,\u001b[49m\n\u001b[1;32m   1882\u001b[0m \u001b[43m    \u001b[49m\u001b[43mmode\u001b[49m\u001b[43m,\u001b[49m\n\u001b[1;32m   1883\u001b[0m \u001b[43m    \u001b[49m\u001b[43mencoding\u001b[49m\u001b[38;5;241;43m=\u001b[39;49m\u001b[38;5;28;43mself\u001b[39;49m\u001b[38;5;241;43m.\u001b[39;49m\u001b[43moptions\u001b[49m\u001b[38;5;241;43m.\u001b[39;49m\u001b[43mget\u001b[49m\u001b[43m(\u001b[49m\u001b[38;5;124;43m\"\u001b[39;49m\u001b[38;5;124;43mencoding\u001b[39;49m\u001b[38;5;124;43m\"\u001b[39;49m\u001b[43m,\u001b[49m\u001b[43m \u001b[49m\u001b[38;5;28;43;01mNone\u001b[39;49;00m\u001b[43m)\u001b[49m\u001b[43m,\u001b[49m\n\u001b[1;32m   1884\u001b[0m \u001b[43m    \u001b[49m\u001b[43mcompression\u001b[49m\u001b[38;5;241;43m=\u001b[39;49m\u001b[38;5;28;43mself\u001b[39;49m\u001b[38;5;241;43m.\u001b[39;49m\u001b[43moptions\u001b[49m\u001b[38;5;241;43m.\u001b[39;49m\u001b[43mget\u001b[49m\u001b[43m(\u001b[49m\u001b[38;5;124;43m\"\u001b[39;49m\u001b[38;5;124;43mcompression\u001b[39;49m\u001b[38;5;124;43m\"\u001b[39;49m\u001b[43m,\u001b[49m\u001b[43m \u001b[49m\u001b[38;5;28;43;01mNone\u001b[39;49;00m\u001b[43m)\u001b[49m\u001b[43m,\u001b[49m\n\u001b[1;32m   1885\u001b[0m \u001b[43m    \u001b[49m\u001b[43mmemory_map\u001b[49m\u001b[38;5;241;43m=\u001b[39;49m\u001b[38;5;28;43mself\u001b[39;49m\u001b[38;5;241;43m.\u001b[39;49m\u001b[43moptions\u001b[49m\u001b[38;5;241;43m.\u001b[39;49m\u001b[43mget\u001b[49m\u001b[43m(\u001b[49m\u001b[38;5;124;43m\"\u001b[39;49m\u001b[38;5;124;43mmemory_map\u001b[39;49m\u001b[38;5;124;43m\"\u001b[39;49m\u001b[43m,\u001b[49m\u001b[43m \u001b[49m\u001b[38;5;28;43;01mFalse\u001b[39;49;00m\u001b[43m)\u001b[49m\u001b[43m,\u001b[49m\n\u001b[1;32m   1886\u001b[0m \u001b[43m    \u001b[49m\u001b[43mis_text\u001b[49m\u001b[38;5;241;43m=\u001b[39;49m\u001b[43mis_text\u001b[49m\u001b[43m,\u001b[49m\n\u001b[1;32m   1887\u001b[0m \u001b[43m    \u001b[49m\u001b[43merrors\u001b[49m\u001b[38;5;241;43m=\u001b[39;49m\u001b[38;5;28;43mself\u001b[39;49m\u001b[38;5;241;43m.\u001b[39;49m\u001b[43moptions\u001b[49m\u001b[38;5;241;43m.\u001b[39;49m\u001b[43mget\u001b[49m\u001b[43m(\u001b[49m\u001b[38;5;124;43m\"\u001b[39;49m\u001b[38;5;124;43mencoding_errors\u001b[39;49m\u001b[38;5;124;43m\"\u001b[39;49m\u001b[43m,\u001b[49m\u001b[43m \u001b[49m\u001b[38;5;124;43m\"\u001b[39;49m\u001b[38;5;124;43mstrict\u001b[39;49m\u001b[38;5;124;43m\"\u001b[39;49m\u001b[43m)\u001b[49m\u001b[43m,\u001b[49m\n\u001b[1;32m   1888\u001b[0m \u001b[43m    \u001b[49m\u001b[43mstorage_options\u001b[49m\u001b[38;5;241;43m=\u001b[39;49m\u001b[38;5;28;43mself\u001b[39;49m\u001b[38;5;241;43m.\u001b[39;49m\u001b[43moptions\u001b[49m\u001b[38;5;241;43m.\u001b[39;49m\u001b[43mget\u001b[49m\u001b[43m(\u001b[49m\u001b[38;5;124;43m\"\u001b[39;49m\u001b[38;5;124;43mstorage_options\u001b[39;49m\u001b[38;5;124;43m\"\u001b[39;49m\u001b[43m,\u001b[49m\u001b[43m \u001b[49m\u001b[38;5;28;43;01mNone\u001b[39;49;00m\u001b[43m)\u001b[49m\u001b[43m,\u001b[49m\n\u001b[1;32m   1889\u001b[0m \u001b[43m\u001b[49m\u001b[43m)\u001b[49m\n\u001b[1;32m   1890\u001b[0m \u001b[38;5;28;01massert\u001b[39;00m \u001b[38;5;28mself\u001b[39m\u001b[38;5;241m.\u001b[39mhandles \u001b[38;5;129;01mis\u001b[39;00m \u001b[38;5;129;01mnot\u001b[39;00m \u001b[38;5;28;01mNone\u001b[39;00m\n\u001b[1;32m   1891\u001b[0m f \u001b[38;5;241m=\u001b[39m \u001b[38;5;28mself\u001b[39m\u001b[38;5;241m.\u001b[39mhandles\u001b[38;5;241m.\u001b[39mhandle\n",
      "File \u001b[0;32m~/Library/Python/3.9/lib/python/site-packages/pandas/io/common.py:873\u001b[0m, in \u001b[0;36mget_handle\u001b[0;34m(path_or_buf, mode, encoding, compression, memory_map, is_text, errors, storage_options)\u001b[0m\n\u001b[1;32m    868\u001b[0m \u001b[38;5;28;01melif\u001b[39;00m \u001b[38;5;28misinstance\u001b[39m(handle, \u001b[38;5;28mstr\u001b[39m):\n\u001b[1;32m    869\u001b[0m     \u001b[38;5;66;03m# Check whether the filename is to be opened in binary mode.\u001b[39;00m\n\u001b[1;32m    870\u001b[0m     \u001b[38;5;66;03m# Binary mode does not support 'encoding' and 'newline'.\u001b[39;00m\n\u001b[1;32m    871\u001b[0m     \u001b[38;5;28;01mif\u001b[39;00m ioargs\u001b[38;5;241m.\u001b[39mencoding \u001b[38;5;129;01mand\u001b[39;00m \u001b[38;5;124m\"\u001b[39m\u001b[38;5;124mb\u001b[39m\u001b[38;5;124m\"\u001b[39m \u001b[38;5;129;01mnot\u001b[39;00m \u001b[38;5;129;01min\u001b[39;00m ioargs\u001b[38;5;241m.\u001b[39mmode:\n\u001b[1;32m    872\u001b[0m         \u001b[38;5;66;03m# Encoding\u001b[39;00m\n\u001b[0;32m--> 873\u001b[0m         handle \u001b[38;5;241m=\u001b[39m \u001b[38;5;28;43mopen\u001b[39;49m\u001b[43m(\u001b[49m\n\u001b[1;32m    874\u001b[0m \u001b[43m            \u001b[49m\u001b[43mhandle\u001b[49m\u001b[43m,\u001b[49m\n\u001b[1;32m    875\u001b[0m \u001b[43m            \u001b[49m\u001b[43mioargs\u001b[49m\u001b[38;5;241;43m.\u001b[39;49m\u001b[43mmode\u001b[49m\u001b[43m,\u001b[49m\n\u001b[1;32m    876\u001b[0m \u001b[43m            \u001b[49m\u001b[43mencoding\u001b[49m\u001b[38;5;241;43m=\u001b[39;49m\u001b[43mioargs\u001b[49m\u001b[38;5;241;43m.\u001b[39;49m\u001b[43mencoding\u001b[49m\u001b[43m,\u001b[49m\n\u001b[1;32m    877\u001b[0m \u001b[43m            \u001b[49m\u001b[43merrors\u001b[49m\u001b[38;5;241;43m=\u001b[39;49m\u001b[43merrors\u001b[49m\u001b[43m,\u001b[49m\n\u001b[1;32m    878\u001b[0m \u001b[43m            \u001b[49m\u001b[43mnewline\u001b[49m\u001b[38;5;241;43m=\u001b[39;49m\u001b[38;5;124;43m\"\u001b[39;49m\u001b[38;5;124;43m\"\u001b[39;49m\u001b[43m,\u001b[49m\n\u001b[1;32m    879\u001b[0m \u001b[43m        \u001b[49m\u001b[43m)\u001b[49m\n\u001b[1;32m    880\u001b[0m     \u001b[38;5;28;01melse\u001b[39;00m:\n\u001b[1;32m    881\u001b[0m         \u001b[38;5;66;03m# Binary mode\u001b[39;00m\n\u001b[1;32m    882\u001b[0m         handle \u001b[38;5;241m=\u001b[39m \u001b[38;5;28mopen\u001b[39m(handle, ioargs\u001b[38;5;241m.\u001b[39mmode)\n",
      "\u001b[0;31mFileNotFoundError\u001b[0m: [Errno 2] No such file or directory: 'data/CORIS.csv'"
     ]
    }
   ],
   "source": [
    "# RUN THIS CELL TO LOAD THE DATA AND SPLIT IT INTO TRAINING, TEST AND VALIDATION SETS\n",
    "# FINALLY IT TRAINS THE MODEL AS A PIPELINE\n",
    "\n",
    "import pandas as pd\n",
    "from sklearn.model_selection import train_test_split\n",
    "\n",
    "CORISDataset = pd.read_csv(\"data/CORIS.csv\",skiprows=[1,2])\n",
    "\n",
    "# Initial data split into features and target\n",
    "problem2_X = CORISDataset[['sbp','tobacco','ldl','adiposity','famhist','typea','obesity','alcohol','age']].values # Features\n",
    "problem2_Y = CORISDataset['chd'].values # Target variable\n",
    "\n",
    "# Split the data into training, test and validation sets\n",
    "problem2_X_train, X_tmp, problem2_Y_train, Y_tmp = train_test_split(problem2_X,problem2_Y,train_size=0.6,random_state=42)\n",
    "problem2_X_test, problem2_X_val, problem2_Y_test, problem2_Y_val = train_test_split(X_tmp,Y_tmp,train_size=0.5,random_state=42)\n",
    "\n",
    "# Show the shapes of the data\n",
    "print(problem2_X_train.shape,problem2_Y_train.shape, problem2_X_test.shape, problem2_Y_test.shape, problem2_X_val.shape, problem2_Y_val.shape)\n",
    "\n",
    "from sklearn.pipeline import Pipeline\n",
    "from sklearn.preprocessing import StandardScaler\n",
    "from sklearn.linear_model import LogisticRegression\n",
    "\n",
    "# Create a pipeline with a scaler and a logistic regression model\n",
    "problem2_pipe = Pipeline([('scaler',StandardScaler()),('logreg',LogisticRegression(random_state=42))])\n",
    "\n",
    "# Fit the pipeline to the training data\n",
    "problem2_pipe.fit(problem2_X_train,problem2_Y_train)"
   ]
  },
  {
   "cell_type": "code",
   "execution_count": null,
   "id": "c9b6b147",
   "metadata": {
    "deletable": false,
    "lx_assignment_number": "vB",
    "lx_assignment_type": "EXAM",
    "lx_assignment_type2print": "Exam",
    "lx_problem_cell_type": "PROBLEM",
    "lx_problem_number": "2",
    "lx_problem_points": "13"
   },
   "outputs": [
    {
     "name": "stdout",
     "output_type": "stream",
     "text": [
      "epsilon 0.14159187089234018\n",
      "datasize: 92\n",
      "recall0: (np.float64(0.7032357153145564), np.float64(0.9864194570992367))\n",
      "recall1: (np.float64(0.41723165851942456), np.float64(0.7004154003041049))\n",
      "precision0: (np.float64(0.6240331291076598), np.float64(0.9072168708923402))\n",
      "precision1: (np.float64(0.5369795576790884), np.float64(0.8201632994637688))\n"
     ]
    }
   ],
   "source": [
    "# Part 1\n",
    "\n",
    "# To make a prediction on a dataset `X` you can use the following code\n",
    "# That is, as with any other sklearn model, you can use the `predict` method\n",
    "\n",
    "# Each precision and recall should be a tuple, for instance you can write\n",
    "# precision0 = (0.9,0.95)\n",
    "# the 0 or 1 in the variable name indicates the class\n",
    "\n",
    "from sklearn.metrics import precision_score\n",
    "from sklearn.metrics import recall_score\n",
    "\n",
    "predictions = problem2_pipe.predict(problem2_X_test)\n",
    "datasize = len(predictions)\n",
    "\n",
    "recalls0 = recall_score(problem2_Y_test, predictions, pos_label=0)\n",
    "recalls1 = recall_score(problem2_Y_test, predictions, pos_label=1)\n",
    "\n",
    "prec0 = precision_score(problem2_Y_test, predictions, pos_label=0)\n",
    "prec1 = precision_score(problem2_Y_test, predictions, pos_label=1)\n",
    "\n",
    "\n",
    "epsilon = np.sqrt(np.log(2/0.05) / (2 * datasize)) * 1 # 95% pga 0.05. 1 för range från 0 till 1\n",
    "print(f\"epsilon {epsilon}\")\n",
    "\n",
    "print(f\"datasize: {datasize}\")\n",
    "\n",
    "problem2_precision0 = np.mean(prec0) - epsilon, np.mean(prec0) + epsilon\n",
    "problem2_recall0 = np.mean(recalls0) - epsilon, np.mean(recalls0) + epsilon\n",
    "problem2_precision1 = np.mean(prec1) - epsilon, np.mean(prec1) + epsilon\n",
    "problem2_recall1 = np.mean(recalls1) - epsilon, np.mean(recalls1) + epsilon\n",
    "\n",
    "print(f\"recall0: {problem2_recall0}\")\n",
    "print(f\"recall1: {problem2_recall1}\")\n",
    "print(f\"precision0: {problem2_precision0}\")\n",
    "print(f\"precision1: {problem2_precision1}\")\n",
    "\n",
    "# The code below will check that you supply the proper type\n",
    "assert(type(problem2_precision0) == tuple)\n",
    "assert(len(problem2_precision0) == 2)\n",
    "assert(type(problem2_recall0) == tuple)\n",
    "assert(len(problem2_recall0) == 2)\n",
    "assert(type(problem2_precision1) == tuple)\n",
    "assert(len(problem2_precision1) == 2)\n",
    "assert(type(problem2_recall1) == tuple)\n",
    "assert(len(problem2_recall1) == 2)\n"
   ]
  },
  {
   "cell_type": "markdown",
   "id": "29c17885",
   "metadata": {},
   "source": [
    "2. [3p] You are interested in minimizing the average cost of your classifier. The hospital wants to use your model as a screening tool, that is, if it finds that someone is classified as CHD we interpret this as further investigation needs to take place, otherwise we do noting. After some deliberations you come to the conclusion that the following \"costs\" should be used (note, this is all imaginary at this point),\n",
    "    * If someone has coronary heart disease but classified as not, we say it costs 300 **(this is the worst scenario)** \n",
    "    * If someone does not have coronary heart disease but classified as having it, we say it costs 10 **(this is less bad than the above issue)**\n",
    "    * If someone has coronary heart disease but classified as having it, costs 0 **(We did the right thing, no cost)**\n",
    "    * If someone does not have coronary heart disease but classified as not, costs 0 **(We did the right thing, no cost)**.\n",
    "\n",
    "complete filling the function `cost` to compute the cost of a prediction model under a certain prediction threshold (recall our precision recall lecture and the `predict_proba` function from the LogisticRegression (code provided)). \n"
   ]
  },
  {
   "cell_type": "code",
   "execution_count": null,
   "id": "2d31b807",
   "metadata": {
    "deletable": false,
    "lx_assignment_number": "vB",
    "lx_assignment_type": "EXAM",
    "lx_assignment_type2print": "Exam",
    "lx_problem_cell_type": "PROBLEM",
    "lx_problem_number": "2",
    "lx_problem_points": "13"
   },
   "outputs": [],
   "source": [
    "# Part 2\n",
    "\n",
    "def problem2_cost(model,threshold,X,Y):\n",
    "    pred_proba = model.predict_proba(X)[:,1]\n",
    "    predictions = (pred_proba >= threshold)*1\n",
    "\n",
    "    probabilities = model.predict_proba(X)[:, 1] \n",
    "    \n",
    "    # Make predictions based on the threshold\n",
    "    predictions = (probabilities >= threshold).astype(int)\n",
    "    \n",
    "    # Calculate the cost\n",
    "    cost = np.mean((1 - predictions) * Y * 300 + 10 * (1 - Y) * predictions)\n",
    "    \n",
    "    # Fill in what is missing to compute the cost and return it\n",
    "    # Note that we are interested in average cost (cost per person)\n",
    "    \n",
    "    return cost"
   ]
  },
  {
   "cell_type": "markdown",
   "id": "b1ef6b8b",
   "metadata": {},
   "source": [
    "3. [4p] Now, we wish to select the threshold of our classifier that minimizes the cost, we do that by checking say 100 evenly spaced proposal thresholds between 0 and 1. Compute the optimal threshold using the testing data and calculate the cost at the chosen threshold using the testing data."
   ]
  },
  {
   "cell_type": "code",
   "execution_count": null,
   "id": "86de761f",
   "metadata": {
    "deletable": false,
    "lx_assignment_number": "vB",
    "lx_assignment_type": "EXAM",
    "lx_assignment_type2print": "Exam",
    "lx_problem_cell_type": "PROBLEM",
    "lx_problem_number": "2",
    "lx_problem_points": "13"
   },
   "outputs": [
    {
     "name": "stdout",
     "output_type": "stream",
     "text": [
      "       message: Optimization terminated successfully.\n",
      "       success: True\n",
      "        status: 0\n",
      "           fun: 5.434782608695652\n",
      "             x: [ 5.000e-02]\n",
      "           nit: 17\n",
      "          nfev: 41\n",
      " final_simplex: (array([[ 5.000e-02],\n",
      "                       [ 5.010e-02]]), array([ 5.435e+00,  5.435e+00]))\n",
      "0.0499999999999996\n",
      "None\n",
      "5.434782608695652\n",
      "None\n"
     ]
    }
   ],
   "source": [
    "# Part 3\n",
    "\n",
    "thresholds = np.arange(0, 1.01, 0.01)\n",
    "from scipy.optimize import minimize\n",
    "res = minimize(lambda x: problem2_cost(problem2_pipe, x, problem2_X_test, problem2_Y_test), [0.5], method='Nelder-Mead')\n",
    "print(res)\n",
    "problem2_optimal_threshold = res.x[0]\n",
    "problem2_cost_at_optimal_threshold = problem2_cost(problem2_pipe, res.x[0], problem2_X_test, problem2_Y_test)\n",
    "print(print(problem2_optimal_threshold))\n",
    "print(print(problem2_cost_at_optimal_threshold))"
   ]
  },
  {
   "cell_type": "markdown",
   "id": "4594eba9",
   "metadata": {},
   "source": [
    "4. [3p] With your newly computed threshold value, compute the cost of putting this model in production by computing the cost using the validation data. Also provide a confidence interval of the cost using Hoeffdings inequality with a 99% confidence."
   ]
  },
  {
   "cell_type": "code",
   "execution_count": null,
   "id": "47f89472",
   "metadata": {
    "deletable": false,
    "lx_assignment_number": "vB",
    "lx_assignment_type": "EXAM",
    "lx_assignment_type2print": "Exam",
    "lx_problem_cell_type": "PROBLEM",
    "lx_problem_number": "2",
    "lx_problem_points": "13"
   },
   "outputs": [
    {
     "name": "stdout",
     "output_type": "stream",
     "text": [
      "Cost on validation data: 6.129032258064516\n",
      "epsilon: 50.63301246771223\n",
      "Interval: (np.float64(-44.50398020964771), np.float64(56.76204472577675))\n",
      "length validation set: 93\n"
     ]
    }
   ],
   "source": [
    "# Part 4\n",
    "\n",
    "\n",
    "problem2_cost_at_optimal_threshold_validation = problem2_cost(problem2_pipe, res.x[0], problem2_X_val, problem2_Y_val)\n",
    "print(f\"Cost on validation data: {problem2_cost_at_optimal_threshold_validation}\")\n",
    "\n",
    "# Report the cost interval as a tuple cost_interval = (a,b)\n",
    "\n",
    "\n",
    "epsilon = np.sqrt(np.log(2/0.01) / (2 * len(problem2_X_val))) * 300 # 99%, range 300 in cost\n",
    "\n",
    "problem2_cost_interval = problem2_cost_at_optimal_threshold_validation - epsilon, problem2_cost_at_optimal_threshold_validation + epsilon\n",
    "\n",
    "\n",
    "print(f\"epsilon: {epsilon}\")\n",
    "print(f\"Interval: {problem2_cost_interval}\")\n",
    "print(f\"length validation set: {len(problem2_X_val)}\")\n",
    "\n",
    "# The code below will tell you if you filled in the intervals correctly\n",
    "assert(type(problem2_cost_interval) == tuple)\n",
    "assert(len(problem2_cost_interval) == 2)"
   ]
  },
  {
   "cell_type": "markdown",
   "id": "86290080",
   "metadata": {
    "deletable": false,
    "lx_assignment_number": "vB",
    "lx_assignment_type": "EXAM",
    "lx_assignment_type2print": "Exam",
    "lx_problem_cell_type": "PROBLEM",
    "lx_problem_number": "3",
    "lx_problem_points": "13"
   },
   "source": [
    "---\n",
    "## Exam vB, PROBLEM 3\n",
    "Maximum Points = 13"
   ]
  },
  {
   "attachments": {},
   "cell_type": "markdown",
   "id": "7366eedf",
   "metadata": {
    "deletable": false,
    "lx_assignment_number": "vB",
    "lx_assignment_type": "EXAM",
    "lx_assignment_type2print": "Exam",
    "lx_problem_cell_type": "PROBLEM",
    "lx_problem_number": "3",
    "lx_problem_points": "13"
   },
   "source": [
    "\n",
    "Consider the following two Markov chains:\n",
    "\n",
    "<img width=\"400px\" src=\"pictures/MarkovA.png\">Markov chain A</img>\n",
    "<img width=\"400px\" src=\"pictures/MarkovB.png\">Markov chain B</img>\n",
    "\n",
    "**Answer each question for all chains:**\n",
    "1. [2p] What is the transition matrix?\n",
    "2. [1p] Is the Markov chain irreducible?\n",
    "3. [4p] Is the Markov chain aperiodic? What is the period for each state? Hint: Recall our definition of period; Let $\\mathbb{T}:=\\{t \\in \\mathbb{N}: P^t(x,x) > 0\\}$ and the greatest common divisor of $\\mathbb{T}$ is the period.\n",
    "4. [2p] Being in state $A$ at time $0$ what is the probability of being in state $B$ at time $5$ (after $5$ steps)\n",
    "5. [4p] Define $T$ as the first time being in state $D$ starting in state $A$. That is, if $X_0,X_1,\\ldots$ is the Markov chain then define for $X_0 = \"A\"$\n",
    "$$\n",
    "    T(\\omega) = \\inf_{t \\in \\mathbb{N}} \\{t: X_t(\\omega) = \"D\"\\}\n",
    "$$\n",
    "where the infimum over the empty set is $\\infty$. Calculate $\\mathbb{P}(T = 1)$, $\\mathbb{P}(T = 2)$, $\\mathbb{P}(T = 3)$, $\\mathbb{P}(T = 4)$, $\\mathbb{P}(T = 5)$, $\\mathbb{P}(T = \\infty)$."
   ]
  },
  {
   "cell_type": "code",
   "execution_count": null,
   "id": "8c0acff3",
   "metadata": {
    "deletable": false,
    "lx_assignment_number": "vB",
    "lx_assignment_type": "EXAM",
    "lx_assignment_type2print": "Exam",
    "lx_problem_cell_type": "PROBLEM",
    "lx_problem_number": "3",
    "lx_problem_points": "13"
   },
   "outputs": [],
   "source": [
    "# PART 1\n",
    "from numpy.linalg import matrix_power\n",
    "from numpy.linalg import matmul\n",
    "\n",
    "#------------------------TRANSITION MATRIX -------------------------------\n",
    "# Answer each one by supplying the transition matrix as a numpy array\n",
    "# of shape (n_states,n_states), where state (A,B,...) corresponds to index (0,1,...)\n",
    "\n",
    "\n",
    "problem3_A    = 1# Skrev på tavlan\n",
    "problem3_B    = 2# tavlan"
   ]
  },
  {
   "cell_type": "code",
   "execution_count": null,
   "id": "08a9d129",
   "metadata": {
    "deletable": false,
    "lx_assignment_number": "vB",
    "lx_assignment_type": "EXAM",
    "lx_assignment_type2print": "Exam",
    "lx_problem_cell_type": "PROBLEM",
    "lx_problem_number": "3",
    "lx_problem_points": "13"
   },
   "outputs": [],
   "source": [
    "# PART 2\n",
    "#------------------------REDUCIBLE -------------------------------\n",
    "# Answer each one with a True or False\n",
    "\n",
    "problem3_A_irreducible = False\n",
    "problem3_B_irreducible = True\n"
   ]
  },
  {
   "cell_type": "code",
   "execution_count": null,
   "id": "34a8140d",
   "metadata": {
    "deletable": false,
    "lx_assignment_number": "vB",
    "lx_assignment_type": "EXAM",
    "lx_assignment_type2print": "Exam",
    "lx_problem_cell_type": "PROBLEM",
    "lx_problem_number": "3",
    "lx_problem_points": "13"
   },
   "outputs": [],
   "source": [
    "# PART 3\n",
    "#------------------------APERIODIC-------------------------------\n",
    "# Answer each one with a True or False\n",
    "\n",
    "problem3_A_is_aperiodic = False\n",
    "problem3_B_is_aperiodic = False\n",
    "\n",
    "# Answer the following with the period of the states as a numpy array\n",
    "# of shape (n_states,)\n",
    "\n",
    "problem3_A_periods = 2\n",
    "problem3_B_periods = 2\n"
   ]
  },
  {
   "cell_type": "code",
   "execution_count": null,
   "id": "fa11b554",
   "metadata": {
    "deletable": false,
    "lx_assignment_number": "vB",
    "lx_assignment_type": "EXAM",
    "lx_assignment_type2print": "Exam",
    "lx_problem_cell_type": "PROBLEM",
    "lx_problem_number": "3",
    "lx_problem_points": "13"
   },
   "outputs": [
    {
     "name": "stdout",
     "output_type": "stream",
     "text": [
      "[0.    0.872 0.    0.128]\n",
      "[0.    0.375 0.    0.375 0.    0.25 ]\n"
     ]
    }
   ],
   "source": [
    "# PART 4\n",
    "\n",
    "# Answer the following with the probability of being in state B at time 5 for the two problems\n",
    "\n",
    "from numpy.linalg import matrix_power\n",
    "from numpy.linalg import matmul\n",
    "\n",
    "#------------------------TRANSITION MATRIX -------------------------------\n",
    "# Answer each one by supplying the transition matrix as a numpy array\n",
    "# of shape (n_states,n_states), where state (A,B,...) corresponds to index (0,1,...)\n",
    "\n",
    "A_matrix = [[0, 0.2, 0, 0.8],\n",
    "            [0, 0, 1, 0],\n",
    "            [0, 1, 0, 0],\n",
    "            [0.5, 0, 0.5, 0]]\n",
    "\n",
    "B_matrix = [[0, 1, 0, 0, 0, 0], # A\n",
    "            [0, 0, 1, 0, 0, 0], # B\n",
    "            [0, 0.5, 0, 0.5, 0, 0], # C\n",
    "            [0, 0, 0.5, 0, 0.5, 0], # D\n",
    "            [0, 0, 0, 0, 0, 1], # E\n",
    "            [0.5, 0, 0, 0, 0.5, 0]] # F\n",
    "\n",
    "print(matmul([1, 0, 0, 0], matrix_power(A_matrix, 5)))\n",
    "print(matmul([1, 0, 0, 0, 0, 0], matrix_power(B_matrix, 5)))\n",
    "# 0.375\n",
    "problem3_A_PB5 = 0.872\n",
    "problem3_B_PB5 = 0.375"
   ]
  },
  {
   "cell_type": "code",
   "execution_count": null,
   "id": "76d582c4",
   "metadata": {
    "deletable": false,
    "lx_assignment_number": "vB",
    "lx_assignment_type": "EXAM",
    "lx_assignment_type2print": "Exam",
    "lx_problem_cell_type": "PROBLEM",
    "lx_problem_number": "3",
    "lx_problem_points": "13"
   },
   "outputs": [
    {
     "name": "stdout",
     "output_type": "stream",
     "text": [
      "0.0\n",
      "0.0\n",
      "0.5\n",
      "0.5\n",
      "0.75\n"
     ]
    }
   ],
   "source": [
    "# PART 5\n",
    "\n",
    "# Answer the following probabilities for T=1,2,3,4,5 and infinity\n",
    "problem3_A_PT1 = 0.8\n",
    "problem3_A_PT2 = 0\n",
    "problem3_A_PT3 = 0 #matmul([1,0,0,0], matrix_power(A_matrix, 3))\n",
    "problem3_A_PT4 = 0 #matmul([1,0,0,0], matrix_power(A_matrix, 4))\n",
    "problem3_A_PT5 = 0 #matmul([1,0,0,0], matrix_power(A_matrix, 5))\n",
    "problem3_A_PT_inf = 0\n",
    "\n",
    "B2_matrix = [[0, 1, 0, 0, 0, 0], # A\n",
    "            [0, 0, 1, 0, 0, 0], # B\n",
    "            [0, 0.5, 0, 0.5, 0, 0], # C\n",
    "            [0, 0, 0, 1, 0, 0], # D, sätt 1 att den går tbks till sig själv. \n",
    "            [0, 0, 0, 0, 0, 1], # E\n",
    "            [0.5, 0, 0, 0, 0.5, 0]] # F\n",
    "\n",
    "problem3_B_PT1 = matmul([1,0,0,0,0,0], matrix_power(B2_matrix, 1))\n",
    "problem3_B_PT2 = matmul([1,0,0,0,0,0], matrix_power(B2_matrix, 2))\n",
    "problem3_B_PT3 = matmul([1,0,0,0,0,0], matrix_power(B2_matrix, 3))\n",
    "problem3_B_PT4 = matmul([1,0,0,0, 0, 0], matrix_power(B2_matrix, 4)) \n",
    "problem3_B_PT5 = matmul([1,0,0,0,0,0], matrix_power(B2_matrix, 5))\n",
    "problem3_B_PT_inf = 0 # pga gränsvärde, om det går mot oändligheten är det 0\n",
    "\n",
    "\n",
    "print(problem3_B_PT1[3])\n",
    "print(problem3_B_PT2[3])\n",
    "print(problem3_B_PT3[3])\n",
    "print(problem3_B_PT4[3])\n",
    "print(problem3_B_PT5[3])"
   ]
  }
 ],
 "metadata": {
  "kernelspec": {
   "display_name": "Python 3",
   "language": "python",
   "name": "python3"
  },
  "language_info": {
   "codemirror_mode": {
    "name": "ipython",
    "version": 3
   },
   "file_extension": ".py",
   "mimetype": "text/x-python",
   "name": "python",
   "nbconvert_exporter": "python",
   "pygments_lexer": "ipython3",
   "version": "3.9.6"
  },
  "lx_assignment_number": "vB",
  "lx_course_instance": "2024",
  "lx_course_name": "Introduction to Data Science",
  "lx_course_number": "1MS041"
 },
 "nbformat": 4,
 "nbformat_minor": 5
}
